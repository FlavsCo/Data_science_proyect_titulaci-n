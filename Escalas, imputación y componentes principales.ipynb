{
 "cells": [
  {
   "cell_type": "code",
   "execution_count": 1,
   "metadata": {},
   "outputs": [],
   "source": [
    "import pandas as pd\n",
    "import numpy as np\n",
    "import datetime\n",
    "import math as m\n",
    "from sklearn.impute import KNNImputer,SimpleImputer\n",
    "import seaborn as sns\n",
    "import matplotlib.pyplot as plt\n",
    "%matplotlib inline\n",
    "from sklearn.preprocessing import StandardScaler\n",
    "import re\n",
    "pd.set_option('display.max_columns',300)\n",
    "pd.set_option('display.max_rows',200)"
   ]
  },
  {
   "cell_type": "code",
   "execution_count": null,
   "metadata": {},
   "outputs": [],
   "source": [
    "df=pd.read_pickle(\"Tabla_Proyecto_Limpia.pkl\")"
   ]
  },
  {
   "cell_type": "code",
   "execution_count": null,
   "metadata": {},
   "outputs": [],
   "source": [
    "df.columns"
   ]
  },
  {
   "cell_type": "code",
   "execution_count": null,
   "metadata": {},
   "outputs": [],
   "source": [
    "df.head()"
   ]
  },
  {
   "cell_type": "markdown",
   "metadata": {},
   "source": [
    "# Sin seccionar el df"
   ]
  },
  {
   "cell_type": "code",
   "execution_count": null,
   "metadata": {},
   "outputs": [],
   "source": [
    "sc=StandardScaler()"
   ]
  },
  {
   "cell_type": "code",
   "execution_count": null,
   "metadata": {},
   "outputs": [],
   "source": [
    "continuas=['Temperature(F)', 'Humidity(%)','Pressure(in)', 'Visibility(mi)'\n",
    "           ,'Wind_Speed(mph)']"
   ]
  },
  {
   "cell_type": "code",
   "execution_count": null,
   "metadata": {},
   "outputs": [],
   "source": [
    "sc.fit(df[continuas])"
   ]
  },
  {
   "cell_type": "code",
   "execution_count": null,
   "metadata": {},
   "outputs": [],
   "source": [
    "X=sc.transform(df[continuas])"
   ]
  },
  {
   "cell_type": "code",
   "execution_count": null,
   "metadata": {},
   "outputs": [],
   "source": [
    "X=pd.DataFrame(X,columns=df[continuas].columns)"
   ]
  },
  {
   "cell_type": "code",
   "execution_count": null,
   "metadata": {},
   "outputs": [],
   "source": [
    "X.columns = [str(col) + '_Escalado' for col in X.columns]"
   ]
  },
  {
   "cell_type": "code",
   "execution_count": null,
   "metadata": {},
   "outputs": [],
   "source": [
    "df.shape"
   ]
  },
  {
   "cell_type": "code",
   "execution_count": null,
   "metadata": {},
   "outputs": [],
   "source": [
    "df=pd.concat([df,X],axis=1)"
   ]
  },
  {
   "cell_type": "code",
   "execution_count": null,
   "metadata": {},
   "outputs": [],
   "source": [
    "df.shape"
   ]
  },
  {
   "cell_type": "code",
   "execution_count": null,
   "metadata": {},
   "outputs": [],
   "source": [
    "df.isnull().sum()"
   ]
  },
  {
   "cell_type": "markdown",
   "metadata": {},
   "source": [
    "# Imputacion de variables"
   ]
  },
  {
   "cell_type": "code",
   "execution_count": null,
   "metadata": {},
   "outputs": [],
   "source": [
    "def get_value_off_missing_data(data_original,data_impute):\n",
    "#     f = plt.subplots()    \n",
    "    sns.distplot(data_original.dropna(),label=\"datos originales\",hist=False,)\n",
    "    sns.distplot(data_impute,color=\"red\",label=\"datos imputados\",hist=False,)\n",
    "    plt.legend()"
   ]
  },
  {
   "cell_type": "code",
   "execution_count": null,
   "metadata": {},
   "outputs": [],
   "source": [
    "imputar_mult=['Temperature(F)_Escalado','Humidity(%)_Escalado', 'Pressure(in)_Escalado',\n",
    "       'Visibility(mi)_Escalado', 'Wind_Speed(mph)_Escalado']"
   ]
  },
  {
   "cell_type": "code",
   "execution_count": null,
   "metadata": {},
   "outputs": [],
   "source": [
    "imputador = KNNImputer(n_neighbors=7)"
   ]
  },
  {
   "cell_type": "code",
   "execution_count": null,
   "metadata": {},
   "outputs": [],
   "source": [
    "imputador.fit(df[imputar_mult])"
   ]
  },
  {
   "cell_type": "code",
   "execution_count": null,
   "metadata": {},
   "outputs": [],
   "source": [
    "data_knn_imputer=pd.DataFrame(imputador.transform(df[imputar_mult]),columns=df[imputar_mult].columns)"
   ]
  },
  {
   "cell_type": "code",
   "execution_count": null,
   "metadata": {},
   "outputs": [],
   "source": [
    "data_knn_imputer.columns = [str(col) + '_KNN' for col in data_knn_imputer.columns]"
   ]
  },
  {
   "cell_type": "code",
   "execution_count": null,
   "metadata": {},
   "outputs": [],
   "source": [
    "df1=pd.concat([df,data_knn_imputer],axis=1)"
   ]
  },
  {
   "cell_type": "markdown",
   "metadata": {},
   "source": [
    "##### imputación por moda"
   ]
  },
  {
   "cell_type": "code",
   "execution_count": null,
   "metadata": {},
   "outputs": [],
   "source": [
    "df1[\"Side\"].value_counts(dropna=False)"
   ]
  },
  {
   "cell_type": "code",
   "execution_count": null,
   "metadata": {},
   "outputs": [],
   "source": [
    "df1[\"Side_moda\"] = df1[\"Side\"].fillna(\"R\")"
   ]
  },
  {
   "cell_type": "code",
   "execution_count": null,
   "metadata": {},
   "outputs": [],
   "source": [
    "df_side = df1.groupby('Side_moda').size()\n",
    "cols=[\"red\",\"blue\"]\n",
    "cases=[\"Izquierda\",\"Derecha\"]\n",
    "plt.figure(figsize=(5,5))\n",
    "plt.pie(df_side,\n",
    "        colors = cols,\n",
    "        labels= cases,\n",
    "        explode = (0,0.1), #moving slices apart\n",
    "        autopct = ('%1.1f%%')) #to display %\n",
    "plt.title('¿De que lado ocurren los accidentes?', weight='heavy', fontsize=8, style='italic');"
   ]
  },
  {
   "cell_type": "code",
   "execution_count": null,
   "metadata": {},
   "outputs": [],
   "source": [
    "df1[\"Wind_Direction\"].value_counts(dropna=False)"
   ]
  },
  {
   "cell_type": "code",
   "execution_count": null,
   "metadata": {},
   "outputs": [],
   "source": [
    "df1[\"Wind_Direction_moda\"] = df1[\"Wind_Direction\"].fillna(\"SW\")"
   ]
  },
  {
   "cell_type": "code",
   "execution_count": null,
   "metadata": {},
   "outputs": [],
   "source": [
    "df1[\"Wind_Direction_moda\"].value_counts(dropna=False)"
   ]
  },
  {
   "cell_type": "code",
   "execution_count": null,
   "metadata": {},
   "outputs": [],
   "source": [
    "df1[\"Weather\"].value_counts(dropna=False)"
   ]
  },
  {
   "cell_type": "code",
   "execution_count": null,
   "metadata": {},
   "outputs": [],
   "source": [
    "df1[\"Weather_moda\"] = df1[\"Weather\"].fillna(\"Cloudy\")"
   ]
  },
  {
   "cell_type": "code",
   "execution_count": null,
   "metadata": {},
   "outputs": [],
   "source": [
    "df1[\"Weather_moda\"].value_counts(dropna=False)"
   ]
  },
  {
   "cell_type": "markdown",
   "metadata": {},
   "source": [
    "### guardamos las escalas y el modelo"
   ]
  },
  {
   "cell_type": "code",
   "execution_count": null,
   "metadata": {},
   "outputs": [],
   "source": [
    "import pickle"
   ]
  },
  {
   "cell_type": "markdown",
   "metadata": {},
   "source": [
    "* pickle.dump(scaler,open(\"scaler.pkl\",\"wb\"))##write binary\n",
    "* scaler=pickle.load(open(\"scaler.pkl\",\"rb\"))##read binary"
   ]
  },
  {
   "cell_type": "code",
   "execution_count": null,
   "metadata": {},
   "outputs": [],
   "source": [
    "#pickle.dump(sc,open(\"scaler_forma1.pkl\",\"wb\"))\n",
    "#pickle.dump(imputador,open(\"imputador_forma1.pkl\",\"wb\"))"
   ]
  },
  {
   "cell_type": "code",
   "execution_count": null,
   "metadata": {},
   "outputs": [],
   "source": [
    "#pd.to_pickle(df1,\"Tabla_Proyecto_Limpia_forma1.pkl\")"
   ]
  },
  {
   "cell_type": "code",
   "execution_count": 2,
   "metadata": {},
   "outputs": [],
   "source": [
    "df1=pd.read_pickle(\"Tabla_Proyecto_Limpia_forma1.pkl\")"
   ]
  },
  {
   "cell_type": "code",
   "execution_count": null,
   "metadata": {},
   "outputs": [],
   "source": [
    "df1.columns"
   ]
  },
  {
   "cell_type": "code",
   "execution_count": null,
   "metadata": {},
   "outputs": [],
   "source": [
    "df1.isnull().sum()"
   ]
  },
  {
   "cell_type": "code",
   "execution_count": null,
   "metadata": {},
   "outputs": [],
   "source": [
    "sns.countplot(df1[\"Wind_Direction\"],\n",
    "             order = df1[\"Wind_Direction\"].value_counts().index)\n",
    "sns.despine()"
   ]
  },
  {
   "cell_type": "code",
   "execution_count": null,
   "metadata": {},
   "outputs": [],
   "source": [
    "plt.figure(figsize=(15,6))\n",
    "sns.countplot(df1[\"Weather\"],\n",
    "             order = df1[\"Weather\"].value_counts().index)\n",
    "sns.despine()"
   ]
  },
  {
   "cell_type": "code",
   "execution_count": null,
   "metadata": {},
   "outputs": [],
   "source": [
    "df1.loc[df1[\"Weather\"]==\"Cloudy\",[\"Weather\",\"Weather_Condition\"]].value_counts()"
   ]
  },
  {
   "cell_type": "code",
   "execution_count": null,
   "metadata": {},
   "outputs": [],
   "source": [
    "plt.figure(figsize=(15,6))\n",
    "sns.countplot(df1.loc[df1[\"Weather\"]==\"Cloudy\",\"Weather_Condition\"],\n",
    "             order = df1.loc[df1[\"Weather\"]==\"Cloudy\",\"Weather_Condition\"].value_counts().index)\n",
    "sns.despine()"
   ]
  },
  {
   "cell_type": "markdown",
   "metadata": {},
   "source": [
    "# Proseguimos"
   ]
  },
  {
   "cell_type": "code",
   "execution_count": null,
   "metadata": {},
   "outputs": [],
   "source": [
    "get_value_off_missing_data(df1['Humidity(%)_Escalado'],df1['Humidity(%)_Escalado_KNN'])"
   ]
  },
  {
   "cell_type": "code",
   "execution_count": null,
   "metadata": {},
   "outputs": [],
   "source": [
    "get_value_off_missing_data(df1['Pressure(in)_Escalado'],df1['Pressure(in)_Escalado_KNN'])"
   ]
  },
  {
   "cell_type": "code",
   "execution_count": null,
   "metadata": {},
   "outputs": [],
   "source": [
    "get_value_off_missing_data(df1['Temperature(F)_Escalado'],df1['Temperature(F)_Escalado_KNN'])"
   ]
  },
  {
   "cell_type": "markdown",
   "metadata": {},
   "source": [
    "# Componentes Principales"
   ]
  },
  {
   "cell_type": "code",
   "execution_count": null,
   "metadata": {},
   "outputs": [],
   "source": [
    "from sklearn.decomposition import PCA"
   ]
  },
  {
   "cell_type": "code",
   "execution_count": null,
   "metadata": {},
   "outputs": [],
   "source": [
    "n_components=3"
   ]
  },
  {
   "cell_type": "code",
   "execution_count": null,
   "metadata": {},
   "outputs": [],
   "source": [
    "pca = PCA(n_components=n_components)"
   ]
  },
  {
   "cell_type": "code",
   "execution_count": null,
   "metadata": {},
   "outputs": [],
   "source": [
    "c=['Temperature(F)_Escalado_KNN','Humidity(%)_Escalado_KNN', 'Pressure(in)_Escalado_KNN',\n",
    "       'Visibility(mi)_Escalado_KNN', 'Wind_Speed(mph)_Escalado_KNN']"
   ]
  },
  {
   "cell_type": "code",
   "execution_count": null,
   "metadata": {},
   "outputs": [],
   "source": [
    "Xpca = pd.DataFrame(pca.fit_transform(df1[c]),columns=['z%d'%(i+1) for i in range(0,n_components)])"
   ]
  },
  {
   "cell_type": "code",
   "execution_count": null,
   "metadata": {},
   "outputs": [],
   "source": [
    "Xpca"
   ]
  },
  {
   "cell_type": "code",
   "execution_count": null,
   "metadata": {},
   "outputs": [],
   "source": [
    "pca.explained_variance_ratio_.cumsum()"
   ]
  },
  {
   "cell_type": "code",
   "execution_count": null,
   "metadata": {},
   "outputs": [],
   "source": [
    "Xpca=pd.concat([df1[\"Severity\"],Xpca],axis=1)"
   ]
  },
  {
   "cell_type": "code",
   "execution_count": null,
   "metadata": {},
   "outputs": [],
   "source": [
    "Xpca"
   ]
  },
  {
   "cell_type": "code",
   "execution_count": null,
   "metadata": {},
   "outputs": [],
   "source": [
    "sns.lmplot(data=Xpca[['z1','z2',\"Severity\"]],x='z1',y='z2',fit_reg=False,hue=\"Severity\")\n",
    "sns.despine()"
   ]
  },
  {
   "cell_type": "code",
   "execution_count": null,
   "metadata": {},
   "outputs": [],
   "source": [
    "fig = plt.figure(figsize=(10,10))\n",
    "ax = fig.add_subplot(111, projection='3d')\n",
    "ax.scatter(Xpca['z1'],Xpca['z2'],Xpca['z3'] , c=Xpca['Severity'] )\n",
    "sns.despine()"
   ]
  },
  {
   "cell_type": "code",
   "execution_count": null,
   "metadata": {},
   "outputs": [],
   "source": [
    "from sklearn.discriminant_analysis import LinearDiscriminantAnalysis as LDA"
   ]
  },
  {
   "cell_type": "code",
   "execution_count": null,
   "metadata": {},
   "outputs": [],
   "source": [
    "n_components = 3"
   ]
  },
  {
   "cell_type": "code",
   "execution_count": null,
   "metadata": {},
   "outputs": [],
   "source": [
    "lda = LDA(n_components=3)"
   ]
  },
  {
   "cell_type": "code",
   "execution_count": null,
   "metadata": {},
   "outputs": [],
   "source": [
    "#Xlda=lda.fit_transform(df1[c],df1[\"Severity\"])"
   ]
  },
  {
   "cell_type": "code",
   "execution_count": null,
   "metadata": {},
   "outputs": [],
   "source": [
    "Xlda=lda.fit(df1[c],df1[\"Severity\"])"
   ]
  },
  {
   "cell_type": "code",
   "execution_count": null,
   "metadata": {},
   "outputs": [],
   "source": [
    "Xlda.explained_variance_ratio_.cumsum()"
   ]
  },
  {
   "cell_type": "code",
   "execution_count": null,
   "metadata": {},
   "outputs": [],
   "source": [
    "Xlda=lda.fit_transform(df1[c],df1[\"Severity\"])"
   ]
  },
  {
   "cell_type": "code",
   "execution_count": null,
   "metadata": {},
   "outputs": [],
   "source": [
    "Xlda = pd.DataFrame(Xlda,columns=['z%d'%(i+1) for i in range(0,n_components)])"
   ]
  },
  {
   "cell_type": "code",
   "execution_count": null,
   "metadata": {},
   "outputs": [],
   "source": [
    "Xlda=pd.concat([df1[\"Severity\"],Xlda],axis=1)"
   ]
  },
  {
   "cell_type": "code",
   "execution_count": null,
   "metadata": {},
   "outputs": [],
   "source": [
    "sns.lmplot(data=Xlda[['z1','z2',\"Severity\"]],x='z1',y='z2',fit_reg=False,hue=\"Severity\")\n",
    "sns.despine()"
   ]
  },
  {
   "cell_type": "code",
   "execution_count": null,
   "metadata": {},
   "outputs": [],
   "source": [
    "fig = plt.figure(figsize=(10,10))\n",
    "ax = fig.add_subplot(111, projection='3d')\n",
    "ax.scatter(Xlda['z1'],Xlda['z2'],Xlda['z3'] , c=Xlda['Severity'] )\n",
    "sns.despine()"
   ]
  },
  {
   "cell_type": "markdown",
   "metadata": {},
   "source": [
    "# Transformación entrópica"
   ]
  },
  {
   "cell_type": "code",
   "execution_count": 3,
   "metadata": {},
   "outputs": [],
   "source": [
    "def iv(target,df,var):\n",
    "    target =target\n",
    "    iv_dict = {}\n",
    "    for f in var:\n",
    "        aux = df[[f,target]].copy()\n",
    "        aux['n'] = 1\n",
    "\n",
    "        aux = aux.pivot_table(columns=target,\n",
    "                              index=f,\n",
    "                              values='n',\n",
    "                              aggfunc='count',\n",
    "                              fill_value=0)\n",
    "\n",
    "        aux['pne'] = aux[0]/aux[0].sum()\n",
    "        aux['pe'] = aux[1]/aux[1].sum()\n",
    "\n",
    "        aux['woe'] = np.log(aux['pne']/aux['pe'])\n",
    "\n",
    "        aux['iv'] = aux['woe']*(aux['pne']-aux['pe'])\n",
    "\n",
    "        iv_dict[f]=aux['iv'].sum()\n",
    "    return iv_dict"
   ]
  },
  {
   "cell_type": "code",
   "execution_count": 4,
   "metadata": {},
   "outputs": [
    {
     "data": {
      "text/plain": [
       "Index(['Source', 'TMC', 'Severity', 'Start_Time', 'End_Time', 'Start_Lat',\n",
       "       'Start_Lng', 'Distance(mi)', 'Description', 'Street', 'Side', 'City',\n",
       "       'County', 'State', 'Zipcode', 'Timezone', 'Airport_Code',\n",
       "       'Temperature(F)', 'Humidity(%)', 'Pressure(in)', 'Visibility(mi)',\n",
       "       'Wind_Direction', 'Wind_Speed(mph)', 'Weather_Condition', 'Amenity',\n",
       "       'Crossing', 'Junction', 'Station', 'Stop', 'Traffic_Signal',\n",
       "       'TimeMinutes', 'Hour', 'Weekday', 'Year', 'Month', 'Day', 'County_Freq',\n",
       "       'State_Freq', 'City_Freq', 'Airport_Freq', 'Weather',\n",
       "       'Temperature(F)_Escalado', 'Humidity(%)_Escalado',\n",
       "       'Pressure(in)_Escalado', 'Visibility(mi)_Escalado',\n",
       "       'Wind_Speed(mph)_Escalado', 'Temperature(F)_Escalado_KNN',\n",
       "       'Humidity(%)_Escalado_KNN', 'Pressure(in)_Escalado_KNN',\n",
       "       'Visibility(mi)_Escalado_KNN', 'Wind_Speed(mph)_Escalado_KNN',\n",
       "       'Side_moda', 'Wind_Direction_moda', 'Weather_moda'],\n",
       "      dtype='object')"
      ]
     },
     "execution_count": 4,
     "metadata": {},
     "output_type": "execute_result"
    }
   ],
   "source": [
    " df1.columns"
   ]
  },
  {
   "cell_type": "code",
   "execution_count": null,
   "metadata": {},
   "outputs": [],
   "source": [
    " df1['Distance(mi)_cut']=pd.cut(df1['Distance(mi)'],bins=6).astype(str)"
   ]
  },
  {
   "cell_type": "code",
   "execution_count": null,
   "metadata": {},
   "outputs": [],
   "source": [
    " df1['Temperature(F)_Escalado_KNN_cut']=pd.cut(df1['Temperature(F)_Escalado_KNN'],bins=6).astype(str)"
   ]
  },
  {
   "cell_type": "code",
   "execution_count": null,
   "metadata": {},
   "outputs": [],
   "source": [
    "df1['Humidity(%)_Escalado_KNN_cut']=pd.cut(df1['Humidity(%)_Escalado_KNN'],bins=6).astype(str)"
   ]
  },
  {
   "cell_type": "code",
   "execution_count": null,
   "metadata": {},
   "outputs": [],
   "source": [
    "df1['Pressure(in)_Escalado_KNN_cut']=pd.cut(df1['Pressure(in)_Escalado_KNN'],bins=6).astype(str)"
   ]
  },
  {
   "cell_type": "code",
   "execution_count": 5,
   "metadata": {},
   "outputs": [],
   "source": [
    "cat=['State','Timezone','Wind_Direction', 'Amenity','Crossing', 'Junction', 'Station', 'Stop', \n",
    "     'Traffic_Signal','Hour', 'Weekday', 'Year', 'Month', 'Day', 'County_Freq',\n",
    "       'State_Freq', 'City_Freq', 'Airport_Freq', 'Weather','Side_moda', 'Wind_Direction_moda', 'Weather_moda']"
   ]
  },
  {
   "cell_type": "code",
   "execution_count": 6,
   "metadata": {},
   "outputs": [],
   "source": [
    "cols_interes=cat##+[col for col in df1.columns if col.endswith('_cut')]"
   ]
  },
  {
   "cell_type": "code",
   "execution_count": 7,
   "metadata": {},
   "outputs": [
    {
     "data": {
      "text/plain": [
       "['State',\n",
       " 'Timezone',\n",
       " 'Wind_Direction',\n",
       " 'Amenity',\n",
       " 'Crossing',\n",
       " 'Junction',\n",
       " 'Station',\n",
       " 'Stop',\n",
       " 'Traffic_Signal',\n",
       " 'Hour',\n",
       " 'Weekday',\n",
       " 'Year',\n",
       " 'Month',\n",
       " 'Day',\n",
       " 'County_Freq',\n",
       " 'State_Freq',\n",
       " 'City_Freq',\n",
       " 'Airport_Freq',\n",
       " 'Weather',\n",
       " 'Side_moda',\n",
       " 'Wind_Direction_moda',\n",
       " 'Weather_moda']"
      ]
     },
     "execution_count": 7,
     "metadata": {},
     "output_type": "execute_result"
    }
   ],
   "source": [
    "cols_interes"
   ]
  },
  {
   "cell_type": "markdown",
   "metadata": {},
   "source": [
    "### generamos el target"
   ]
  },
  {
   "cell_type": "code",
   "execution_count": 8,
   "metadata": {},
   "outputs": [],
   "source": [
    "dic={4:\"fuerte\",3:\"fuerte\",2:\"debil\",1:\"debil\"}"
   ]
  },
  {
   "cell_type": "code",
   "execution_count": 9,
   "metadata": {},
   "outputs": [],
   "source": [
    "df1[\"tgt\"]=df1[\"Severity\"].replace(dic)"
   ]
  },
  {
   "cell_type": "code",
   "execution_count": 10,
   "metadata": {},
   "outputs": [],
   "source": [
    "dic={\"fuerte\":1,\"debil\":0}"
   ]
  },
  {
   "cell_type": "code",
   "execution_count": 11,
   "metadata": {},
   "outputs": [],
   "source": [
    "df1[\"tgt\"]=df1[\"tgt\"].replace(dic)"
   ]
  },
  {
   "cell_type": "code",
   "execution_count": 12,
   "metadata": {},
   "outputs": [
    {
     "data": {
      "text/plain": [
       "0    0.689953\n",
       "1    0.310047\n",
       "Name: tgt, dtype: float64"
      ]
     },
     "execution_count": 12,
     "metadata": {},
     "output_type": "execute_result"
    }
   ],
   "source": [
    "df1[\"tgt\"].value_counts(1)"
   ]
  },
  {
   "cell_type": "code",
   "execution_count": 13,
   "metadata": {},
   "outputs": [],
   "source": [
    "dic_iv=iv(target=\"tgt\",df=df1,var=cols_interes)"
   ]
  },
  {
   "cell_type": "code",
   "execution_count": 14,
   "metadata": {},
   "outputs": [],
   "source": [
    "criterio_iv=pd.DataFrame(dic_iv,index=[0]).T.reset_index().rename(columns={'index':'variable',0:'iv'})"
   ]
  },
  {
   "cell_type": "code",
   "execution_count": 15,
   "metadata": {},
   "outputs": [],
   "source": [
    "criterio_iv=criterio_iv.sort_values(by=[\"iv\"],ascending=False)"
   ]
  },
  {
   "cell_type": "code",
   "execution_count": 16,
   "metadata": {},
   "outputs": [],
   "source": [
    "criterio_iv=criterio_iv.reset_index(drop=True)"
   ]
  },
  {
   "cell_type": "code",
   "execution_count": 17,
   "metadata": {},
   "outputs": [
    {
     "data": {
      "text/html": [
       "<div>\n",
       "<style scoped>\n",
       "    .dataframe tbody tr th:only-of-type {\n",
       "        vertical-align: middle;\n",
       "    }\n",
       "\n",
       "    .dataframe tbody tr th {\n",
       "        vertical-align: top;\n",
       "    }\n",
       "\n",
       "    .dataframe thead th {\n",
       "        text-align: right;\n",
       "    }\n",
       "</style>\n",
       "<table border=\"1\" class=\"dataframe\">\n",
       "  <thead>\n",
       "    <tr style=\"text-align: right;\">\n",
       "      <th></th>\n",
       "      <th>variable</th>\n",
       "      <th>iv</th>\n",
       "    </tr>\n",
       "  </thead>\n",
       "  <tbody>\n",
       "    <tr>\n",
       "      <th>0</th>\n",
       "      <td>Airport_Freq</td>\n",
       "      <td>0.812268</td>\n",
       "    </tr>\n",
       "    <tr>\n",
       "      <th>1</th>\n",
       "      <td>City_Freq</td>\n",
       "      <td>0.757369</td>\n",
       "    </tr>\n",
       "    <tr>\n",
       "      <th>2</th>\n",
       "      <td>County_Freq</td>\n",
       "      <td>0.693243</td>\n",
       "    </tr>\n",
       "    <tr>\n",
       "      <th>3</th>\n",
       "      <td>Side_moda</td>\n",
       "      <td>0.274326</td>\n",
       "    </tr>\n",
       "    <tr>\n",
       "      <th>4</th>\n",
       "      <td>State</td>\n",
       "      <td>0.250359</td>\n",
       "    </tr>\n",
       "    <tr>\n",
       "      <th>5</th>\n",
       "      <td>State_Freq</td>\n",
       "      <td>0.250359</td>\n",
       "    </tr>\n",
       "    <tr>\n",
       "      <th>6</th>\n",
       "      <td>Traffic_Signal</td>\n",
       "      <td>0.240896</td>\n",
       "    </tr>\n",
       "    <tr>\n",
       "      <th>7</th>\n",
       "      <td>Crossing</td>\n",
       "      <td>0.132997</td>\n",
       "    </tr>\n",
       "    <tr>\n",
       "      <th>8</th>\n",
       "      <td>Weekday</td>\n",
       "      <td>0.052965</td>\n",
       "    </tr>\n",
       "    <tr>\n",
       "      <th>9</th>\n",
       "      <td>Year</td>\n",
       "      <td>0.045739</td>\n",
       "    </tr>\n",
       "    <tr>\n",
       "      <th>10</th>\n",
       "      <td>Weather</td>\n",
       "      <td>0.038778</td>\n",
       "    </tr>\n",
       "    <tr>\n",
       "      <th>11</th>\n",
       "      <td>Weather_moda</td>\n",
       "      <td>0.038698</td>\n",
       "    </tr>\n",
       "    <tr>\n",
       "      <th>12</th>\n",
       "      <td>Hour</td>\n",
       "      <td>0.033667</td>\n",
       "    </tr>\n",
       "    <tr>\n",
       "      <th>13</th>\n",
       "      <td>Stop</td>\n",
       "      <td>0.027124</td>\n",
       "    </tr>\n",
       "    <tr>\n",
       "      <th>14</th>\n",
       "      <td>Timezone</td>\n",
       "      <td>0.025265</td>\n",
       "    </tr>\n",
       "    <tr>\n",
       "      <th>15</th>\n",
       "      <td>Wind_Direction</td>\n",
       "      <td>0.018076</td>\n",
       "    </tr>\n",
       "    <tr>\n",
       "      <th>16</th>\n",
       "      <td>Wind_Direction_moda</td>\n",
       "      <td>0.018076</td>\n",
       "    </tr>\n",
       "    <tr>\n",
       "      <th>17</th>\n",
       "      <td>Junction</td>\n",
       "      <td>0.017200</td>\n",
       "    </tr>\n",
       "    <tr>\n",
       "      <th>18</th>\n",
       "      <td>Amenity</td>\n",
       "      <td>0.016615</td>\n",
       "    </tr>\n",
       "    <tr>\n",
       "      <th>19</th>\n",
       "      <td>Station</td>\n",
       "      <td>0.016284</td>\n",
       "    </tr>\n",
       "    <tr>\n",
       "      <th>20</th>\n",
       "      <td>Month</td>\n",
       "      <td>0.005865</td>\n",
       "    </tr>\n",
       "    <tr>\n",
       "      <th>21</th>\n",
       "      <td>Day</td>\n",
       "      <td>0.000713</td>\n",
       "    </tr>\n",
       "  </tbody>\n",
       "</table>\n",
       "</div>"
      ],
      "text/plain": [
       "               variable        iv\n",
       "0          Airport_Freq  0.812268\n",
       "1             City_Freq  0.757369\n",
       "2           County_Freq  0.693243\n",
       "3             Side_moda  0.274326\n",
       "4                 State  0.250359\n",
       "5            State_Freq  0.250359\n",
       "6        Traffic_Signal  0.240896\n",
       "7              Crossing  0.132997\n",
       "8               Weekday  0.052965\n",
       "9                  Year  0.045739\n",
       "10              Weather  0.038778\n",
       "11         Weather_moda  0.038698\n",
       "12                 Hour  0.033667\n",
       "13                 Stop  0.027124\n",
       "14             Timezone  0.025265\n",
       "15       Wind_Direction  0.018076\n",
       "16  Wind_Direction_moda  0.018076\n",
       "17             Junction  0.017200\n",
       "18              Amenity  0.016615\n",
       "19              Station  0.016284\n",
       "20                Month  0.005865\n",
       "21                  Day  0.000713"
      ]
     },
     "execution_count": 17,
     "metadata": {},
     "output_type": "execute_result"
    }
   ],
   "source": [
    "criterio_iv"
   ]
  },
  {
   "cell_type": "code",
   "execution_count": 18,
   "metadata": {},
   "outputs": [
    {
     "data": {
      "text/html": [
       "<div>\n",
       "<style scoped>\n",
       "    .dataframe tbody tr th:only-of-type {\n",
       "        vertical-align: middle;\n",
       "    }\n",
       "\n",
       "    .dataframe tbody tr th {\n",
       "        vertical-align: top;\n",
       "    }\n",
       "\n",
       "    .dataframe thead th {\n",
       "        text-align: right;\n",
       "    }\n",
       "</style>\n",
       "<table border=\"1\" class=\"dataframe\">\n",
       "  <thead>\n",
       "    <tr style=\"text-align: right;\">\n",
       "      <th></th>\n",
       "      <th>variable</th>\n",
       "      <th>iv</th>\n",
       "    </tr>\n",
       "  </thead>\n",
       "  <tbody>\n",
       "    <tr>\n",
       "      <th>0</th>\n",
       "      <td>Airport_Freq</td>\n",
       "      <td>0.812268</td>\n",
       "    </tr>\n",
       "    <tr>\n",
       "      <th>1</th>\n",
       "      <td>City_Freq</td>\n",
       "      <td>0.757369</td>\n",
       "    </tr>\n",
       "    <tr>\n",
       "      <th>2</th>\n",
       "      <td>County_Freq</td>\n",
       "      <td>0.693243</td>\n",
       "    </tr>\n",
       "    <tr>\n",
       "      <th>15</th>\n",
       "      <td>Wind_Direction</td>\n",
       "      <td>0.018076</td>\n",
       "    </tr>\n",
       "    <tr>\n",
       "      <th>16</th>\n",
       "      <td>Wind_Direction_moda</td>\n",
       "      <td>0.018076</td>\n",
       "    </tr>\n",
       "    <tr>\n",
       "      <th>17</th>\n",
       "      <td>Junction</td>\n",
       "      <td>0.017200</td>\n",
       "    </tr>\n",
       "    <tr>\n",
       "      <th>18</th>\n",
       "      <td>Amenity</td>\n",
       "      <td>0.016615</td>\n",
       "    </tr>\n",
       "    <tr>\n",
       "      <th>19</th>\n",
       "      <td>Station</td>\n",
       "      <td>0.016284</td>\n",
       "    </tr>\n",
       "    <tr>\n",
       "      <th>20</th>\n",
       "      <td>Month</td>\n",
       "      <td>0.005865</td>\n",
       "    </tr>\n",
       "    <tr>\n",
       "      <th>21</th>\n",
       "      <td>Day</td>\n",
       "      <td>0.000713</td>\n",
       "    </tr>\n",
       "  </tbody>\n",
       "</table>\n",
       "</div>"
      ],
      "text/plain": [
       "               variable        iv\n",
       "0          Airport_Freq  0.812268\n",
       "1             City_Freq  0.757369\n",
       "2           County_Freq  0.693243\n",
       "15       Wind_Direction  0.018076\n",
       "16  Wind_Direction_moda  0.018076\n",
       "17             Junction  0.017200\n",
       "18              Amenity  0.016615\n",
       "19              Station  0.016284\n",
       "20                Month  0.005865\n",
       "21                  Day  0.000713"
      ]
     },
     "execution_count": 18,
     "metadata": {},
     "output_type": "execute_result"
    }
   ],
   "source": [
    "criterio_iv[(criterio_iv[\"iv\"]>.5)|(criterio_iv[\"iv\"]<.02)]"
   ]
  },
  {
   "cell_type": "code",
   "execution_count": 19,
   "metadata": {},
   "outputs": [],
   "source": [
    "var_iv=[\"Airport_Freq\",\"City_Freq\",\"County_Freq\",\"Wind_Direction\",\"Wind_Direction_moda\",\n",
    "        \"Junction\",\"Amenity\",\"Station\",\"Month\",\"Day\"]"
   ]
  },
  {
   "cell_type": "code",
   "execution_count": 20,
   "metadata": {},
   "outputs": [],
   "source": [
    "df1=df1.drop(var_iv,axis=1)"
   ]
  },
  {
   "cell_type": "code",
   "execution_count": 23,
   "metadata": {},
   "outputs": [],
   "source": [
    "test=['Weather_Condition','Side','Weather','State','Temperature(F)', 'Humidity(%)', 'Pressure(in)', 'Visibility(mi)',\n",
    "       'Wind_Speed(mph)','Temperature(F)_Escalado', 'Humidity(%)_Escalado',\n",
    "       'Pressure(in)_Escalado', 'Visibility(mi)_Escalado','Wind_Speed(mph)_Escalado',\n",
    "     'tgt']"
   ]
  },
  {
   "cell_type": "code",
   "execution_count": 24,
   "metadata": {},
   "outputs": [],
   "source": [
    "df1=df1.drop(test,axis=1)"
   ]
  },
  {
   "cell_type": "code",
   "execution_count": 25,
   "metadata": {},
   "outputs": [
    {
     "data": {
      "text/plain": [
       "Index(['Source', 'TMC', 'Severity', 'Start_Time', 'End_Time', 'Start_Lat',\n",
       "       'Start_Lng', 'Distance(mi)', 'Description', 'Street', 'City', 'County',\n",
       "       'Zipcode', 'Timezone', 'Airport_Code', 'Crossing', 'Stop',\n",
       "       'Traffic_Signal', 'TimeMinutes', 'Hour', 'Weekday', 'Year',\n",
       "       'State_Freq', 'Temperature(F)_Escalado_KNN', 'Humidity(%)_Escalado_KNN',\n",
       "       'Pressure(in)_Escalado_KNN', 'Visibility(mi)_Escalado_KNN',\n",
       "       'Wind_Speed(mph)_Escalado_KNN', 'Side_moda', 'Weather_moda'],\n",
       "      dtype='object')"
      ]
     },
     "execution_count": 25,
     "metadata": {},
     "output_type": "execute_result"
    }
   ],
   "source": [
    "df1.columns"
   ]
  },
  {
   "cell_type": "code",
   "execution_count": 27,
   "metadata": {},
   "outputs": [
    {
     "data": {
      "text/plain": [
       "(2984488, 30)"
      ]
     },
     "execution_count": 27,
     "metadata": {},
     "output_type": "execute_result"
    }
   ],
   "source": [
    "df1.shape"
   ]
  },
  {
   "cell_type": "markdown",
   "metadata": {},
   "source": [
    "# Kbest"
   ]
  },
  {
   "cell_type": "code",
   "execution_count": 38,
   "metadata": {},
   "outputs": [],
   "source": [
    "df1['Crossing']=df1['Crossing'].replace({True:1,False:0})\n",
    "df1['Stop']=df1['Stop'].replace({True:1,False:0})\n",
    "df1['Traffic_Signal']=df1['Traffic_Signal'].replace({True:1,False:0})"
   ]
  },
  {
   "cell_type": "code",
   "execution_count": 39,
   "metadata": {},
   "outputs": [],
   "source": [
    "variables=['Distance(mi)','Crossing', 'Stop','Traffic_Signal', 'TimeMinutes',\n",
    "       'State_Freq', 'Temperature(F)_Escalado_KNN', 'Humidity(%)_Escalado_KNN',\n",
    "       'Pressure(in)_Escalado_KNN', 'Visibility(mi)_Escalado_KNN',\n",
    "       'Wind_Speed(mph)_Escalado_KNN']"
   ]
  },
  {
   "cell_type": "code",
   "execution_count": 40,
   "metadata": {},
   "outputs": [],
   "source": [
    "from sklearn.feature_selection import SelectKBest"
   ]
  },
  {
   "cell_type": "code",
   "execution_count": 78,
   "metadata": {},
   "outputs": [
    {
     "data": {
      "text/plain": [
       "SelectKBest(k=3)"
      ]
     },
     "execution_count": 78,
     "metadata": {},
     "output_type": "execute_result"
    }
   ],
   "source": [
    "sk = SelectKBest(k=3)\n",
    "sk.fit(df1[variables],df1[\"Severity\"])"
   ]
  },
  {
   "cell_type": "code",
   "execution_count": 79,
   "metadata": {},
   "outputs": [
    {
     "data": {
      "text/plain": [
       "array([35742.17739783, 26103.35510517,  3988.92424193, 44302.85402689,\n",
       "        1009.0000991 ,  8371.12294845,  2505.18546612,  4011.92565383,\n",
       "        7464.80465862,   522.88530082,  2105.77300095])"
      ]
     },
     "execution_count": 79,
     "metadata": {},
     "output_type": "execute_result"
    }
   ],
   "source": [
    "sk.scores_"
   ]
  },
  {
   "cell_type": "code",
   "execution_count": 80,
   "metadata": {},
   "outputs": [],
   "source": [
    "best= [a for a,b in list(zip(variables,sk.get_support())) if b]"
   ]
  },
  {
   "cell_type": "code",
   "execution_count": 81,
   "metadata": {},
   "outputs": [
    {
     "data": {
      "text/plain": [
       "['Distance(mi)', 'Crossing', 'Traffic_Signal']"
      ]
     },
     "execution_count": 81,
     "metadata": {},
     "output_type": "execute_result"
    }
   ],
   "source": [
    "best"
   ]
  },
  {
   "cell_type": "code",
   "execution_count": null,
   "metadata": {},
   "outputs": [],
   "source": []
  }
 ],
 "metadata": {
  "kernelspec": {
   "display_name": "Python 3",
   "language": "python",
   "name": "python3"
  },
  "language_info": {
   "codemirror_mode": {
    "name": "ipython",
    "version": 3
   },
   "file_extension": ".py",
   "mimetype": "text/x-python",
   "name": "python",
   "nbconvert_exporter": "python",
   "pygments_lexer": "ipython3",
   "version": "3.7.9"
  }
 },
 "nbformat": 4,
 "nbformat_minor": 4
}
