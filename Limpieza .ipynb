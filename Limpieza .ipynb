{
 "cells": [
  {
   "cell_type": "code",
   "execution_count": 1,
   "metadata": {},
   "outputs": [],
   "source": [
    "import pandas as pd\n",
    "import numpy as np\n",
    "import datetime\n",
    "import math as m\n",
    "from sklearn.impute import KNNImputer,SimpleImputer\n",
    "import seaborn as sns\n",
    "from sklearn.preprocessing import StandardScaler\n",
    "import re\n",
    "pd.set_option('display.max_columns',300)\n",
    "pd.set_option('display.max_rows',200)"
   ]
  },
  {
   "cell_type": "markdown",
   "metadata": {},
   "source": [
    "#### ya hice un pkl para no correr todo"
   ]
  },
  {
   "cell_type": "code",
   "execution_count": 2,
   "metadata": {},
   "outputs": [],
   "source": [
    "df=pd.read_csv(\"US_Accidents_June20.csv\")#.sample(n=100000, random_state=1)"
   ]
  },
  {
   "cell_type": "code",
   "execution_count": null,
   "metadata": {},
   "outputs": [],
   "source": [
    "print('Rows     :',df.shape[0])\n",
    "print('Columns  :',df.shape[1])\n",
    "print('\\nFeatures :\\n     :',df.columns.tolist())\n",
    "print('\\nMissing values    :',df.isnull().values.sum())\n",
    "print('\\nUnique values :  \\n',df.nunique())"
   ]
  },
  {
   "cell_type": "code",
   "execution_count": 6,
   "metadata": {},
   "outputs": [],
   "source": [
    "df['Start_Time']=pd.to_datetime(df['Start_Time'])\n",
    "df['End_Time']=pd.to_datetime(df['End_Time'])"
   ]
  },
  {
   "cell_type": "code",
   "execution_count": 7,
   "metadata": {},
   "outputs": [],
   "source": [
    "df[\"time\"]=df[\"End_Time\"]-df[\"Start_Time\"]"
   ]
  },
  {
   "cell_type": "code",
   "execution_count": 9,
   "metadata": {},
   "outputs": [],
   "source": [
    "df[\"TimeMinutes\"]= pd.to_timedelta(df[\"time\"]).astype('timedelta64[m]').astype(int)"
   ]
  },
  {
   "cell_type": "code",
   "execution_count": null,
   "metadata": {},
   "outputs": [],
   "source": [
    "df['Hour']=df['Start_Time'].dt.hour\n",
    "df['Weekday']=df['Start_Time'].dt.strftime('%a')\n",
    "df['Year']=df['Start_Time'].dt.year\n",
    "df['Month']=df['Start_Time'].dt.strftime('%b')\n",
    "df['Day']=df['Start_Time'].dt.day"
   ]
  },
  {
   "cell_type": "code",
   "execution_count": 10,
   "metadata": {},
   "outputs": [],
   "source": [
    "df1=df[df[\"TimeMinutes\"]>0].copy()"
   ]
  },
  {
   "cell_type": "code",
   "execution_count": 11,
   "metadata": {},
   "outputs": [],
   "source": [
    "df1=df1.reset_index(drop=True)"
   ]
  },
  {
   "cell_type": "code",
   "execution_count": null,
   "metadata": {},
   "outputs": [],
   "source": [
    "County=df[[\"County\",\"ID\"]].groupby(\"County\").count()\n",
    "County.rename(columns={\"ID\":\"County_Freq\"},inplace=True)\n",
    "Zipcode=df[[\"Zipcode\",\"ID\"]].groupby(\"Zipcode\").count()\n",
    "Zipcode.rename(columns={\"ID\":\"Zipcode_Freq\"},inplace=True)\n",
    "State=df[[\"State\",\"ID\"]].groupby(\"State\").count()\n",
    "State.rename(columns={\"ID\":\"State_Freq\"},inplace=True)\n",
    "City=df[[\"City\",\"ID\"]].groupby(\"City\").count()\n",
    "City.rename(columns={\"ID\":\"City_Freq\"},inplace=True)\n",
    "Airport=df[[\"Airport_Code\",\"ID\"]].groupby(\"Airport_Code\").count()\n",
    "Airport.rename(columns={\"ID\":\"Airport_Freq\"},inplace=True)"
   ]
  },
  {
   "cell_type": "code",
   "execution_count": null,
   "metadata": {},
   "outputs": [],
   "source": [
    "df1=pd.merge(df1,County,how=\"left\", left_on=\"County\", right_on=\"County\")\n",
    "df1=pd.merge(df1,State,how=\"left\", left_on=\"State\", right_on=\"State\")\n",
    "df1=pd.merge(df1,City,how=\"left\", left_on=\"City\", right_on=\"City\")\n",
    "df1=pd.merge(df1,Airport,how=\"left\", left_on=\"Airport_Code\", right_on=\"Airport_Code\")"
   ]
  },
  {
   "cell_type": "markdown",
   "metadata": {},
   "source": [
    "# seccionamos el df\n",
    "##### no fue necesario de momento"
   ]
  },
  {
   "cell_type": "code",
   "execution_count": null,
   "metadata": {},
   "outputs": [],
   "source": [
    "df1[\"Source\"].value_counts()"
   ]
  },
  {
   "cell_type": "code",
   "execution_count": null,
   "metadata": {},
   "outputs": [],
   "source": [
    "df_B=df1[df1[\"Source\"]==\"Bing\"].copy()\n",
    "df_MQ=df1[df1[\"Source\"]==\"MapQuest\"].copy()\n",
    "df_BMQ=df1[df1[\"Source\"]==\"MapQuest-Bing\"].copy()"
   ]
  },
  {
   "cell_type": "code",
   "execution_count": null,
   "metadata": {},
   "outputs": [],
   "source": [
    "df_B=df_B.reset_index(drop=True)\n",
    "df_MQ=df_MQ.reset_index(drop=True)\n",
    "df_BMQ=df_BMQ.reset_index(drop=True)"
   ]
  },
  {
   "cell_type": "markdown",
   "metadata": {},
   "source": [
    "## revisamos outliers"
   ]
  },
  {
   "cell_type": "code",
   "execution_count": null,
   "metadata": {},
   "outputs": [],
   "source": [
    "df_B.describe(list(np.arange(.1,1,.1))+[.05,.95])## windspeed"
   ]
  },
  {
   "cell_type": "code",
   "execution_count": null,
   "metadata": {},
   "outputs": [],
   "source": [
    "df_MQ.describe(list(np.arange(.1,1,.1))+[.05,.95])## windspeed"
   ]
  },
  {
   "cell_type": "code",
   "execution_count": null,
   "metadata": {},
   "outputs": [],
   "source": [
    "df_BMQ.describe(list(np.arange(.1,1,.1))+[.05,.95])## windspeed"
   ]
  },
  {
   "cell_type": "markdown",
   "metadata": {},
   "source": [
    "##### Como las 3 tienen el outlier en windspeed y notamos que lo podemos quitar de la tabla original procedemos con eso"
   ]
  },
  {
   "cell_type": "code",
   "execution_count": 12,
   "metadata": {},
   "outputs": [],
   "source": [
    "q1=df1[\"Wind_Speed(mph)\"].quantile(.25)\n",
    "q3=df1[\"Wind_Speed(mph)\"].quantile(.75)"
   ]
  },
  {
   "cell_type": "code",
   "execution_count": 13,
   "metadata": {},
   "outputs": [],
   "source": [
    "IQR=1.5*(q3-q1)"
   ]
  },
  {
   "cell_type": "code",
   "execution_count": null,
   "metadata": {},
   "outputs": [],
   "source": [
    "q3+IQR"
   ]
  },
  {
   "cell_type": "code",
   "execution_count": null,
   "metadata": {},
   "outputs": [],
   "source": [
    "df1[\"Wind_Speed(mph)\"].min()"
   ]
  },
  {
   "cell_type": "code",
   "execution_count": 14,
   "metadata": {},
   "outputs": [],
   "source": [
    "df1=df1[(df1[\"Wind_Speed(mph)\"]>=q1-IQR)&(df1[\"Wind_Speed(mph)\"]<=q3+IQR)].copy()"
   ]
  },
  {
   "cell_type": "code",
   "execution_count": 15,
   "metadata": {},
   "outputs": [],
   "source": [
    "df1=df1.reset_index(drop=True)"
   ]
  },
  {
   "cell_type": "markdown",
   "metadata": {},
   "source": [
    "# Reducción de dimensiones parte 1"
   ]
  },
  {
   "cell_type": "code",
   "execution_count": null,
   "metadata": {},
   "outputs": [],
   "source": [
    "df1.shape"
   ]
  },
  {
   "cell_type": "markdown",
   "metadata": {},
   "source": [
    "###### Eliminamos columnas con demasiados nulos, porque los métodos de imputacion no serviran"
   ]
  },
  {
   "cell_type": "code",
   "execution_count": 16,
   "metadata": {},
   "outputs": [
    {
     "data": {
      "text/plain": [
       "ID                             0\n",
       "Source                         0\n",
       "TMC                       907122\n",
       "Severity                       0\n",
       "Start_Time                     0\n",
       "End_Time                       0\n",
       "Start_Lat                      0\n",
       "Start_Lng                      0\n",
       "End_Lat                  2103589\n",
       "End_Lng                  2103589\n",
       "Distance(mi)                   0\n",
       "Description                    1\n",
       "Number                   1936107\n",
       "Street                         0\n",
       "Side                           0\n",
       "City                          97\n",
       "County                         0\n",
       "State                          0\n",
       "Zipcode                        0\n",
       "Country                        0\n",
       "Timezone                       0\n",
       "Airport_Code                   0\n",
       "Weather_Timestamp              0\n",
       "Temperature(F)              9233\n",
       "Wind_Chill(F)            1395044\n",
       "Humidity(%)                12497\n",
       "Pressure(in)                3338\n",
       "Visibility(mi)              9924\n",
       "Wind_Direction                43\n",
       "Wind_Speed(mph)                0\n",
       "Precipitation(in)        1590358\n",
       "Weather_Condition          10431\n",
       "Amenity                        0\n",
       "Bump                           0\n",
       "Crossing                       0\n",
       "Give_Way                       0\n",
       "Junction                       0\n",
       "No_Exit                        0\n",
       "Railway                        0\n",
       "Roundabout                     0\n",
       "Station                        0\n",
       "Stop                           0\n",
       "Traffic_Calming                0\n",
       "Traffic_Signal                 0\n",
       "Turning_Loop                   0\n",
       "Sunrise_Sunset               100\n",
       "Civil_Twilight               100\n",
       "Nautical_Twilight            100\n",
       "Astronomical_Twilight        100\n",
       "time                           0\n",
       "TimeMinutes                    0\n",
       "dtype: int64"
      ]
     },
     "execution_count": 16,
     "metadata": {},
     "output_type": "execute_result"
    }
   ],
   "source": [
    "df1.isnull().sum()"
   ]
  },
  {
   "cell_type": "code",
   "execution_count": 17,
   "metadata": {},
   "outputs": [],
   "source": [
    "dropear=[\"End_Lat\",\"End_Lng\",\"Number\",\"Wind_Chill(F)\",\"Precipitation(in)\",\n",
    "         \"Weather_Timestamp\",\"time\",\"Sunrise_Sunset\",\"Civil_Twilight\"\n",
    "         ,\"Nautical_Twilight\",\"Astronomical_Twilight\",\"ID\"]"
   ]
  },
  {
   "cell_type": "code",
   "execution_count": 18,
   "metadata": {},
   "outputs": [
    {
     "data": {
      "text/plain": [
       "End_Lat                  0.698702\n",
       "End_Lng                  0.698702\n",
       "Number                   0.643073\n",
       "Wind_Chill(F)            0.463360\n",
       "Precipitation(in)        0.528233\n",
       "Weather_Timestamp        0.000000\n",
       "time                     0.000000\n",
       "Sunrise_Sunset           0.000033\n",
       "Civil_Twilight           0.000033\n",
       "Nautical_Twilight        0.000033\n",
       "Astronomical_Twilight    0.000033\n",
       "ID                       0.000000\n",
       "dtype: float64"
      ]
     },
     "execution_count": 18,
     "metadata": {},
     "output_type": "execute_result"
    }
   ],
   "source": [
    "df1[dropear].isnull().sum()/df1.shape[0]"
   ]
  },
  {
   "cell_type": "code",
   "execution_count": null,
   "metadata": {},
   "outputs": [],
   "source": [
    "df1=df1.drop(dropear,axis=1)"
   ]
  },
  {
   "cell_type": "code",
   "execution_count": null,
   "metadata": {},
   "outputs": [],
   "source": [
    "df1.columns"
   ]
  },
  {
   "cell_type": "markdown",
   "metadata": {},
   "source": [
    "#### Revisamos variables Unarias"
   ]
  },
  {
   "cell_type": "code",
   "execution_count": null,
   "metadata": {},
   "outputs": [],
   "source": [
    "print('\\nUnique values :  \\n',df1.nunique())"
   ]
  },
  {
   "cell_type": "code",
   "execution_count": 19,
   "metadata": {},
   "outputs": [],
   "source": [
    "unarias=[\"Turning_Loop\",\"Bump\",\"Give_Way\",\"No_Exit\",\"Railway\",\"Roundabout\",\n",
    "         \"Traffic_Calming\",\"Country\"]"
   ]
  },
  {
   "cell_type": "code",
   "execution_count": 32,
   "metadata": {},
   "outputs": [
    {
     "data": {
      "text/plain": [
       "False    1.0\n",
       "Name: Turning_Loop, dtype: float64"
      ]
     },
     "execution_count": 32,
     "metadata": {},
     "output_type": "execute_result"
    }
   ],
   "source": [
    "df1[\"Turning_Loop\"].value_counts(1)"
   ]
  },
  {
   "cell_type": "code",
   "execution_count": 20,
   "metadata": {},
   "outputs": [
    {
     "data": {
      "text/plain": [
       "False    0.988008\n",
       "True     0.011992\n",
       "Name: Amenity, dtype: float64"
      ]
     },
     "execution_count": 20,
     "metadata": {},
     "output_type": "execute_result"
    }
   ],
   "source": [
    "df1[\"Amenity\"].value_counts(1)"
   ]
  },
  {
   "cell_type": "code",
   "execution_count": 21,
   "metadata": {},
   "outputs": [
    {
     "data": {
      "text/plain": [
       "False    0.999828\n",
       "True     0.000172\n",
       "Name: Bump, dtype: float64"
      ]
     },
     "execution_count": 21,
     "metadata": {},
     "output_type": "execute_result"
    }
   ],
   "source": [
    "df1[\"Bump\"].value_counts(1)"
   ]
  },
  {
   "cell_type": "code",
   "execution_count": 22,
   "metadata": {},
   "outputs": [
    {
     "data": {
      "text/plain": [
       "False    0.920271\n",
       "True     0.079729\n",
       "Name: Crossing, dtype: float64"
      ]
     },
     "execution_count": 22,
     "metadata": {},
     "output_type": "execute_result"
    }
   ],
   "source": [
    "df1[\"Crossing\"].value_counts(1)"
   ]
  },
  {
   "cell_type": "code",
   "execution_count": 23,
   "metadata": {},
   "outputs": [
    {
     "data": {
      "text/plain": [
       "False    0.997344\n",
       "True     0.002656\n",
       "Name: Give_Way, dtype: float64"
      ]
     },
     "execution_count": 23,
     "metadata": {},
     "output_type": "execute_result"
    }
   ],
   "source": [
    "df1[\"Give_Way\"].value_counts(1)"
   ]
  },
  {
   "cell_type": "code",
   "execution_count": 24,
   "metadata": {},
   "outputs": [
    {
     "data": {
      "text/plain": [
       "False    0.9195\n",
       "True     0.0805\n",
       "Name: Junction, dtype: float64"
      ]
     },
     "execution_count": 24,
     "metadata": {},
     "output_type": "execute_result"
    }
   ],
   "source": [
    "df1[\"Junction\"].value_counts(1)"
   ]
  },
  {
   "cell_type": "code",
   "execution_count": 25,
   "metadata": {},
   "outputs": [
    {
     "data": {
      "text/plain": [
       "False    0.998738\n",
       "True     0.001262\n",
       "Name: No_Exit, dtype: float64"
      ]
     },
     "execution_count": 25,
     "metadata": {},
     "output_type": "execute_result"
    }
   ],
   "source": [
    "df1[\"No_Exit\"].value_counts(1)"
   ]
  },
  {
   "cell_type": "code",
   "execution_count": 26,
   "metadata": {},
   "outputs": [
    {
     "data": {
      "text/plain": [
       "False    0.991251\n",
       "True     0.008749\n",
       "Name: Railway, dtype: float64"
      ]
     },
     "execution_count": 26,
     "metadata": {},
     "output_type": "execute_result"
    }
   ],
   "source": [
    "df1[\"Railway\"].value_counts(1)"
   ]
  },
  {
   "cell_type": "code",
   "execution_count": 27,
   "metadata": {},
   "outputs": [
    {
     "data": {
      "text/plain": [
       "False    0.999947\n",
       "True     0.000053\n",
       "Name: Roundabout, dtype: float64"
      ]
     },
     "execution_count": 27,
     "metadata": {},
     "output_type": "execute_result"
    }
   ],
   "source": [
    "df1[\"Roundabout\"].value_counts(1)"
   ]
  },
  {
   "cell_type": "code",
   "execution_count": 28,
   "metadata": {},
   "outputs": [
    {
     "data": {
      "text/plain": [
       "False    0.98004\n",
       "True     0.01996\n",
       "Name: Station, dtype: float64"
      ]
     },
     "execution_count": 28,
     "metadata": {},
     "output_type": "execute_result"
    }
   ],
   "source": [
    "df1[\"Station\"].value_counts(1)"
   ]
  },
  {
   "cell_type": "code",
   "execution_count": 29,
   "metadata": {},
   "outputs": [
    {
     "data": {
      "text/plain": [
       "False    0.98529\n",
       "True     0.01471\n",
       "Name: Stop, dtype: float64"
      ]
     },
     "execution_count": 29,
     "metadata": {},
     "output_type": "execute_result"
    }
   ],
   "source": [
    "df1[\"Stop\"].value_counts(1)"
   ]
  },
  {
   "cell_type": "code",
   "execution_count": 30,
   "metadata": {},
   "outputs": [
    {
     "data": {
      "text/plain": [
       "False    0.999608\n",
       "True     0.000392\n",
       "Name: Traffic_Calming, dtype: float64"
      ]
     },
     "execution_count": 30,
     "metadata": {},
     "output_type": "execute_result"
    }
   ],
   "source": [
    "df1[\"Traffic_Calming\"].value_counts(1)"
   ]
  },
  {
   "cell_type": "code",
   "execution_count": 31,
   "metadata": {},
   "outputs": [
    {
     "data": {
      "text/plain": [
       "False    0.819378\n",
       "True     0.180622\n",
       "Name: Traffic_Signal, dtype: float64"
      ]
     },
     "execution_count": 31,
     "metadata": {},
     "output_type": "execute_result"
    }
   ],
   "source": [
    "df1[\"Traffic_Signal\"].value_counts(1)"
   ]
  },
  {
   "cell_type": "code",
   "execution_count": null,
   "metadata": {},
   "outputs": [],
   "source": [
    "df1=df1.drop(unarias,axis=1)"
   ]
  },
  {
   "cell_type": "code",
   "execution_count": null,
   "metadata": {},
   "outputs": [],
   "source": [
    "df1.columns"
   ]
  },
  {
   "cell_type": "markdown",
   "metadata": {},
   "source": [
    "## Limpieza de variables, con un diccionario"
   ]
  },
  {
   "cell_type": "code",
   "execution_count": null,
   "metadata": {},
   "outputs": [],
   "source": [
    "df1[\"Wind_Direction\"].unique()"
   ]
  },
  {
   "cell_type": "code",
   "execution_count": null,
   "metadata": {},
   "outputs": [],
   "source": [
    "## WSW WEST SOUTHWEST,"
   ]
  },
  {
   "cell_type": "code",
   "execution_count": null,
   "metadata": {},
   "outputs": [],
   "source": [
    "dic_viento={\"CALM\":\"calm\",\"South\":\"S\",\"West\":\"W\",\"North\":\"N\",\"VAR\":\"Variable\",\"East\":\"E\",\n",
    "           \"SSW\":\"SW\",\"WSW\":\"SW\",\"WNW\":\"NW\",\"NNW\":\"NW\",\"NNE\":\"NE\",\"SSE\":\"SE\",\"ESE\":\"SE\",\n",
    "           \"ENE\":\"NE\"}"
   ]
  },
  {
   "cell_type": "code",
   "execution_count": null,
   "metadata": {},
   "outputs": [],
   "source": [
    "df1[\"Wind_Direction\"]=df1[\"Wind_Direction\"].replace(dic_viento)"
   ]
  },
  {
   "cell_type": "code",
   "execution_count": null,
   "metadata": {},
   "outputs": [],
   "source": [
    "df1[\"Wind_Direction\"].value_counts(1,dropna=False)"
   ]
  },
  {
   "cell_type": "code",
   "execution_count": null,
   "metadata": {},
   "outputs": [],
   "source": [
    "df1['Weather_Condition'].value_counts()"
   ]
  },
  {
   "cell_type": "code",
   "execution_count": null,
   "metadata": {},
   "outputs": [],
   "source": [
    "# show distinctive weather conditions \n",
    "weather =' '.join(df1['Weather_Condition'].dropna())\n",
    "#weather = np.unique(np.array(re.split(\"!|\\s/\\s|\\sand\\s|\\swith\\s|Partly\\s|Mostly\\s|Blowing\\s|Freezing\\s\", weather))).tolist()\n",
    "#print(\"Weather Conditions: \", weather)\n"
   ]
  },
  {
   "cell_type": "code",
   "execution_count": null,
   "metadata": {},
   "outputs": [],
   "source": [
    "type(weather)"
   ]
  },
  {
   "cell_type": "code",
   "execution_count": null,
   "metadata": {},
   "outputs": [],
   "source": [
    "bad_chars = [';', ':', '!', \"*\",\"-\",\"/\"]\n",
    "for i in bad_chars :\n",
    "    test_string = weather.replace(i, '')"
   ]
  },
  {
   "cell_type": "code",
   "execution_count": null,
   "metadata": {},
   "outputs": [],
   "source": [
    "wordlist = test_string.split()"
   ]
  },
  {
   "cell_type": "code",
   "execution_count": null,
   "metadata": {},
   "outputs": [],
   "source": [
    "from collections import Counter\n",
    "Counter(wordlist)"
   ]
  },
  {
   "cell_type": "code",
   "execution_count": null,
   "metadata": {},
   "outputs": [],
   "source": [
    "df1['Test'] = np.where(df1['Weather_Condition'].str.contains('Cloud', case=False, na = False),'Cloudy', df1['Weather_Condition'])\n",
    "df1['Test'] = np.where(df1['Test'].str.contains('thunder', case=False, na = False),'ThunderStorm', df1['Test'])\n",
    "df1['Test'] = np.where(df1['Test'].str.contains('T-Storm', case=False, na = False),'ThunderStorm', df1['Test'])\n",
    "df1['Test'] = np.where(df1['Test'].str.contains('Sand', case=False, na = False),'Dust Whirls', df1['Test'])\n",
    "df1['Test'] = np.where(df1['Test'].str.contains('Whirls', case=False, na = False),'Dust Whirls', df1['Test'])"
   ]
  },
  {
   "cell_type": "code",
   "execution_count": null,
   "metadata": {},
   "outputs": [],
   "source": [
    "df1['Test'] = np.where(df1['Test'].str.contains('Fog', case=False, na = False),'Fog', df1['Test'])\n",
    "df1['Test'] = np.where(df1['Test'].str.contains('snow', case=False, na = False),'snow', df1['Test'])\n",
    "df1['Test'] = np.where(df1['Test'].str.contains('Rain', case=False, na = False),'rainy', df1['Test'])\n",
    "df1['Test'] = np.where(df1['Test'].str.contains('Drizzle', case=False, na = False),'rainy', df1['Test'])"
   ]
  },
  {
   "cell_type": "code",
   "execution_count": null,
   "metadata": {},
   "outputs": [],
   "source": [
    "df1['Test'] = np.where(df1['Test'].str.contains('Hail', case=False, na = False),'Hail', df1['Test'])\n",
    "df1['Test'] = np.where(df1['Test'].str.contains('Haze', case=False, na = False),'Haze', df1['Test'])\n",
    "df1['Test'] = np.where(df1['Test'].str.contains('Windy', case=False, na = False),'Windy', df1['Test'])"
   ]
  },
  {
   "cell_type": "code",
   "execution_count": null,
   "metadata": {},
   "outputs": [],
   "source": [
    "df1['Test'] = np.where(df1['Test'].str.contains('Smoke', case=False, na = False),'Other', df1['Test'])\n",
    "df1['Test'] = np.where(df1['Test'].str.contains('Windy', case=False, na = False),'Other', df1['Test'])\n",
    "df1['Test'] = np.where(df1['Test'].str.contains('Wintry', case=False, na = False),'Other', df1['Test'])\n",
    "df1['Test'] = np.where(df1['Test'].str.contains('Mist', case=False, na = False),'Other', df1['Test'])\n",
    "df1['Test'] = np.where(df1['Test'].str.contains('Showers', case=False, na = False),'Other', df1['Test'])\n",
    "df1['Test'] = np.where(df1['Test'].str.contains('Precipitation', case=False, na = False),'Other', df1['Test'])\n",
    "df1['Test'] = np.where(df1['Test'].str.contains('Hail', case=False, na = False),'Other', df1['Test'])\n",
    "df1['Test'] = np.where(df1['Test'].str.contains('Squalls', case=False, na = False),'Other', df1['Test'])\n",
    "df1['Test'] = np.where(df1['Test'].str.contains('Tornado', case=False, na = False),'Other', df1['Test'])"
   ]
  },
  {
   "cell_type": "code",
   "execution_count": null,
   "metadata": {},
   "outputs": [],
   "source": [
    "df1['Test'] = np.where(df1['Test'].str.contains('Pellets', case=False, na = False),'Other', df1['Test'])\n",
    "df1['Test'] = np.where(df1['Test'].str.contains('Sleet', case=False, na = False),'Other', df1['Test'])\n",
    "df1['Test'] = np.where(df1['Test'].str.contains('Dust', case=False, na = False),'Other', df1['Test'])"
   ]
  },
  {
   "cell_type": "code",
   "execution_count": null,
   "metadata": {},
   "outputs": [],
   "source": [
    "df1=df1.rename(columns={\"Test\": \"Weather\"})"
   ]
  },
  {
   "cell_type": "code",
   "execution_count": null,
   "metadata": {},
   "outputs": [],
   "source": [
    "weather =' '.join(df1['Test'].dropna())"
   ]
  },
  {
   "cell_type": "code",
   "execution_count": null,
   "metadata": {},
   "outputs": [],
   "source": [
    "bad_chars = [';', ':', '!', \"*\",\"-\",\"/\",'of','in','the','and','Low','Nearby']\n",
    "for i in bad_chars :\n",
    "    test_string = weather.replace(i, '')"
   ]
  },
  {
   "cell_type": "code",
   "execution_count": null,
   "metadata": {},
   "outputs": [],
   "source": [
    "wordlist = test_string.split()\n",
    "Counter(wordlist)"
   ]
  },
  {
   "cell_type": "code",
   "execution_count": null,
   "metadata": {},
   "outputs": [],
   "source": [
    "df1[\"Weather\"].value_counts(1)"
   ]
  },
  {
   "cell_type": "markdown",
   "metadata": {},
   "source": [
    "### last check"
   ]
  },
  {
   "cell_type": "code",
   "execution_count": null,
   "metadata": {},
   "outputs": [],
   "source": [
    "#df1.to_pickle(\"dummy.pkl\")"
   ]
  },
  {
   "cell_type": "code",
   "execution_count": null,
   "metadata": {},
   "outputs": [],
   "source": [
    "df1=pd.read_pickle(\"dummy.pkl\")### de las discretas solo falta validar que quedó bien weather"
   ]
  },
  {
   "cell_type": "code",
   "execution_count": null,
   "metadata": {},
   "outputs": [],
   "source": [
    "df1.head()"
   ]
  },
  {
   "cell_type": "code",
   "execution_count": null,
   "metadata": {},
   "outputs": [],
   "source": [
    "df1.shape"
   ]
  },
  {
   "cell_type": "code",
   "execution_count": null,
   "metadata": {},
   "outputs": [],
   "source": [
    "df1.columns"
   ]
  },
  {
   "cell_type": "code",
   "execution_count": null,
   "metadata": {},
   "outputs": [],
   "source": [
    "df1[\"Day\"].value_counts(1,dropna=False)"
   ]
  },
  {
   "cell_type": "code",
   "execution_count": null,
   "metadata": {},
   "outputs": [],
   "source": [
    "df1[\"Zipcode\"].nunique()"
   ]
  },
  {
   "cell_type": "code",
   "execution_count": null,
   "metadata": {},
   "outputs": [],
   "source": [
    "revisar=[\"Temperature(F)\",\"Humidity(%)\",\"Pressure(in)\",\"Visibility(mi)\",\"Wind_Speed(mph)\"]\n",
    "revisar2=[\"Distance(mi)\",\"TimeMinutes\"]"
   ]
  },
  {
   "cell_type": "code",
   "execution_count": null,
   "metadata": {},
   "outputs": [],
   "source": [
    "df1[revisar].describe(list(np.arange(.1,1,.1))+[.05,.95]+[.01,.99])"
   ]
  },
  {
   "cell_type": "code",
   "execution_count": null,
   "metadata": {},
   "outputs": [],
   "source": [
    "q3=df1[\"Visibility(mi)\"].quantile(.75)\n",
    "q1=df1[\"Visibility(mi)\"].quantile(.25)"
   ]
  },
  {
   "cell_type": "code",
   "execution_count": null,
   "metadata": {},
   "outputs": [],
   "source": [
    "IQR=1.5*(q3-q1)"
   ]
  },
  {
   "cell_type": "code",
   "execution_count": null,
   "metadata": {},
   "outputs": [],
   "source": [
    "q3+IQR"
   ]
  },
  {
   "cell_type": "code",
   "execution_count": null,
   "metadata": {},
   "outputs": [],
   "source": [
    "df2=df1[df1[\"Visibility(mi)\"]<=10].copy()"
   ]
  },
  {
   "cell_type": "code",
   "execution_count": null,
   "metadata": {},
   "outputs": [],
   "source": [
    "df2=df2.reset_index(drop=True)"
   ]
  },
  {
   "cell_type": "code",
   "execution_count": null,
   "metadata": {},
   "outputs": [],
   "source": [
    "df2[revisar].describe(list(np.arange(.1,1,.1))+[.05,.95]+[.01,.99])"
   ]
  },
  {
   "cell_type": "code",
   "execution_count": null,
   "metadata": {},
   "outputs": [],
   "source": [
    "df2.shape"
   ]
  },
  {
   "cell_type": "code",
   "execution_count": null,
   "metadata": {},
   "outputs": [],
   "source": [
    "df1.shape"
   ]
  },
  {
   "cell_type": "code",
   "execution_count": null,
   "metadata": {},
   "outputs": [],
   "source": [
    "2984488/3513617"
   ]
  },
  {
   "cell_type": "code",
   "execution_count": null,
   "metadata": {},
   "outputs": [],
   "source": [
    "revision_clima=df2[['Weather_Condition','Weather']]"
   ]
  },
  {
   "cell_type": "code",
   "execution_count": null,
   "metadata": {},
   "outputs": [],
   "source": [
    "revision_clima['Weather'].unique()"
   ]
  },
  {
   "cell_type": "code",
   "execution_count": null,
   "metadata": {},
   "outputs": [],
   "source": [
    "revision_clima.loc[revision_clima['Weather']=='Other', ['Weather_Condition']].value_counts()"
   ]
  },
  {
   "cell_type": "code",
   "execution_count": null,
   "metadata": {},
   "outputs": [],
   "source": [
    "#df2.to_pickle(\"Tabla_Proyecto_Limpia.pkl\")"
   ]
  },
  {
   "cell_type": "markdown",
   "metadata": {},
   "source": [
    "###### HASTA AQUÍ"
   ]
  },
  {
   "cell_type": "markdown",
   "metadata": {},
   "source": [
    "### separar mapquest y bing https://www.kaggle.com/jingzongwang/usa-car-accidents-severity-prediction"
   ]
  },
  {
   "cell_type": "code",
   "execution_count": null,
   "metadata": {},
   "outputs": [],
   "source": [
    "df_B=df1[df1[\"Source\"]==\"Bing\"].copy()\n",
    "df_MQ=df1[df1[\"Source\"]==\"MapQuest\"].copy()\n",
    "df_BMQ=df1[df1[\"Source\"]==\"MapQuest-Bing\"].copy()"
   ]
  },
  {
   "cell_type": "code",
   "execution_count": null,
   "metadata": {},
   "outputs": [],
   "source": [
    "df_B=df_B.reset_index(drop=True)\n",
    "df_MQ=df_MQ.reset_index(drop=True)\n",
    "df_BMQ=df_BMQ.reset_index(drop=True)"
   ]
  },
  {
   "cell_type": "code",
   "execution_count": null,
   "metadata": {},
   "outputs": [],
   "source": [
    "df1.columns"
   ]
  },
  {
   "cell_type": "markdown",
   "metadata": {},
   "source": [
    "### Escala de variables"
   ]
  },
  {
   "cell_type": "code",
   "execution_count": null,
   "metadata": {},
   "outputs": [],
   "source": [
    "sc_B=StandardScaler()\n",
    "sc_MQ=StandardScaler()\n",
    "sc_BMQ=StandardScaler()"
   ]
  },
  {
   "cell_type": "code",
   "execution_count": null,
   "metadata": {},
   "outputs": [],
   "source": [
    "continuas=['Distance(mi)','Temperature(F)', 'Humidity(%)','Pressure(in)', 'Visibility(mi)'\n",
    "           ,'Wind_Speed(mph)','TimeMinutes',]"
   ]
  },
  {
   "cell_type": "code",
   "execution_count": null,
   "metadata": {},
   "outputs": [],
   "source": [
    "sc_B.fit(df_B[continuas])\n",
    "sc_MQ.fit(df_MQ[continuas])\n",
    "sc_BMQ.fit(df_BMQ[continuas])"
   ]
  },
  {
   "cell_type": "code",
   "execution_count": null,
   "metadata": {},
   "outputs": [],
   "source": [
    "X1=sc_B.transform(df_B[continuas])\n",
    "X2=sc_MQ.transform(df_MQ[continuas])\n",
    "X3=sc_BMQ.transform(df_BMQ[continuas])"
   ]
  },
  {
   "cell_type": "code",
   "execution_count": null,
   "metadata": {},
   "outputs": [],
   "source": [
    "X1=pd.DataFrame(X1,columns=df_B[continuas].columns)\n",
    "X2=pd.DataFrame(X2,columns=df_MQ[continuas].columns)\n",
    "X3=pd.DataFrame(X3,columns=df_BMQ[continuas].columns)"
   ]
  },
  {
   "cell_type": "code",
   "execution_count": null,
   "metadata": {},
   "outputs": [],
   "source": [
    "X1.columns = [str(col) + '_Escalado' for col in X1.columns]\n",
    "X2.columns = [str(col) + '_Escalado' for col in X2.columns]\n",
    "X3.columns = [str(col) + '_Escalado' for col in X3.columns]"
   ]
  },
  {
   "cell_type": "code",
   "execution_count": null,
   "metadata": {},
   "outputs": [],
   "source": [
    "df_B=pd.concat([df_B,X1],axis=1)\n",
    "df_MQ=pd.concat([df_MQ,X2],axis=1)\n",
    "df_BMQ=pd.concat([df_BMQ,X3],axis=1)"
   ]
  },
  {
   "cell_type": "code",
   "execution_count": null,
   "metadata": {},
   "outputs": [],
   "source": [
    "df_MQ.isnull().sum()"
   ]
  },
  {
   "cell_type": "markdown",
   "metadata": {},
   "source": [
    "## Imputación de variables"
   ]
  },
  {
   "cell_type": "code",
   "execution_count": null,
   "metadata": {},
   "outputs": [],
   "source": [
    "def get_value_off_missing_data(data_original,data_impute):\n",
    "#     f = plt.subplots()    \n",
    "    sns.distplot(data_original.dropna(),label=\"datos originales\",hist=False,kde_kws={\"fill\":True},)\n",
    "    sns.distplot(data_impute,color=\"red\",label=\"datos imputados\",hist=False,kde_kws={\"fill\":True},)\n",
    "    plt.legend()"
   ]
  },
  {
   "cell_type": "markdown",
   "metadata": {},
   "source": [
    "### Multivariante"
   ]
  },
  {
   "cell_type": "code",
   "execution_count": null,
   "metadata": {},
   "outputs": [],
   "source": [
    "imputar_mult=['Distance(mi)_Escalado', 'Temperature(F)_Escalado',\n",
    "       'Humidity(%)_Escalado', 'Pressure(in)_Escalado',\n",
    "       'Visibility(mi)_Escalado', 'Wind_Speed(mph)_Escalado',\n",
    "       'TimeMinutes_Escalado']"
   ]
  },
  {
   "cell_type": "code",
   "execution_count": null,
   "metadata": {},
   "outputs": [],
   "source": [
    "imputador = KNNImputer(n_neighbors=7)"
   ]
  },
  {
   "cell_type": "code",
   "execution_count": null,
   "metadata": {},
   "outputs": [],
   "source": [
    "imputador.fit(df2[imputar_mult])"
   ]
  },
  {
   "cell_type": "code",
   "execution_count": null,
   "metadata": {},
   "outputs": [],
   "source": [
    "data_knn_imputer=pd.DataFrame(imputador.transform(df2[imputar_mult]),columns=imputar_mult)"
   ]
  },
  {
   "cell_type": "code",
   "execution_count": null,
   "metadata": {},
   "outputs": [],
   "source": [
    "get_value_off_missing_data(df2[imputar_mult],data_knn_imputer[imputar_mult])"
   ]
  },
  {
   "cell_type": "markdown",
   "metadata": {},
   "source": [
    "### Univariante"
   ]
  },
  {
   "cell_type": "code",
   "execution_count": null,
   "metadata": {},
   "outputs": [],
   "source": [
    "## imputar side por moda y wind direction y weather, quitar zip code"
   ]
  },
  {
   "cell_type": "code",
   "execution_count": null,
   "metadata": {},
   "outputs": [],
   "source": []
  },
  {
   "cell_type": "markdown",
   "metadata": {},
   "source": [
    "# PCA"
   ]
  },
  {
   "cell_type": "code",
   "execution_count": null,
   "metadata": {},
   "outputs": [],
   "source": [
    "df1.head()"
   ]
  },
  {
   "cell_type": "code",
   "execution_count": null,
   "metadata": {},
   "outputs": [],
   "source": []
  }
 ],
 "metadata": {
  "kernelspec": {
   "display_name": "Python 3",
   "language": "python",
   "name": "python3"
  },
  "language_info": {
   "codemirror_mode": {
    "name": "ipython",
    "version": 3
   },
   "file_extension": ".py",
   "mimetype": "text/x-python",
   "name": "python",
   "nbconvert_exporter": "python",
   "pygments_lexer": "ipython3",
   "version": "3.7.7"
  }
 },
 "nbformat": 4,
 "nbformat_minor": 4
}
