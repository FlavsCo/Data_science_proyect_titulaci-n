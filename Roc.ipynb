{
 "cells": [
  {
   "cell_type": "code",
   "execution_count": 1,
   "metadata": {},
   "outputs": [
    {
     "data": {
      "text/html": [
       "        <script type=\"text/javascript\">\n",
       "        window.PlotlyConfig = {MathJaxConfig: 'local'};\n",
       "        if (window.MathJax) {MathJax.Hub.Config({SVG: {font: \"STIX-Web\"}});}\n",
       "        if (typeof require !== 'undefined') {\n",
       "        require.undef(\"plotly\");\n",
       "        requirejs.config({\n",
       "            paths: {\n",
       "                'plotly': ['https://cdn.plot.ly/plotly-latest.min']\n",
       "            }\n",
       "        });\n",
       "        require(['plotly'], function(Plotly) {\n",
       "            window._Plotly = Plotly;\n",
       "        });\n",
       "        }\n",
       "        </script>\n",
       "        "
      ]
     },
     "metadata": {},
     "output_type": "display_data"
    }
   ],
   "source": [
    "import numpy as np\n",
    "import pandas as pd\n",
    "import cufflinks as cf\n",
    "from sklearn.impute import SimpleImputer\n",
    "from sklearn.linear_model import LogisticRegression\n",
    "from sklearn.metrics import roc_curve, confusion_matrix, roc_auc_score,plot_roc_curve\n",
    "import matplotlib.pyplot as plt\n",
    "cf.go_offline()\n",
    "pd.set_option('display.max_columns',300)\n",
    "pd.set_option('display.max_rows',300)"
   ]
  },
  {
   "cell_type": "code",
   "execution_count": null,
   "metadata": {},
   "outputs": [],
   "source": [
    "df=pd.read_pickle(\"Tabla_Proyecto_Limpia_forma1.pkl\")"
   ]
  },
  {
   "cell_type": "code",
   "execution_count": null,
   "metadata": {},
   "outputs": [],
   "source": [
    "df=df[df[\"Source\"]==\"MapQuest\"].copy()"
   ]
  },
  {
   "cell_type": "code",
   "execution_count": null,
   "metadata": {},
   "outputs": [],
   "source": [
    "quitar=['TMC','Start_Time', 'End_Time', 'Description', 'Street','Side','City','County','Zipcode',\n",
    "          'Airport_Code','Temperature(F)', 'Humidity(%)', 'Pressure(in)', 'Visibility(mi)',\n",
    "       'Wind_Direction', 'Wind_Speed(mph)', 'Weather_Condition','City_Freq','Weather', 'Temperature(F)_Escalado', 'Humidity(%)_Escalado',\n",
    "       'Pressure(in)_Escalado', 'Visibility(mi)_Escalado',\n",
    "       'Wind_Speed(mph)_Escalado','Day']"
   ]
  },
  {
   "cell_type": "code",
   "execution_count": null,
   "metadata": {},
   "outputs": [],
   "source": [
    "columnas=[x for x in df.columns if x not in quitar]"
   ]
  },
  {
   "cell_type": "code",
   "execution_count": null,
   "metadata": {},
   "outputs": [],
   "source": [
    "df=df[columnas]"
   ]
  },
  {
   "cell_type": "code",
   "execution_count": null,
   "metadata": {},
   "outputs": [],
   "source": [
    "df[\"Amenity\"]=df[\"Amenity\"]*1\n",
    "df[\"Crossing\"]=df[\"Crossing\"]*1\n",
    "df[\"Junction\"]=df[\"Junction\"]*1\n",
    "df[\"Station\"]=df[\"Station\"]*1\n",
    "df[\"Stop\"]=df[\"Stop\"]*1\n",
    "df[\"Traffic_Signal\"]=df[\"Traffic_Signal\"]*1\n",
    "df[\"Hour\"]=df[\"Hour\"].astype(str)\n",
    "df[\"Year\"]=df[\"Year\"].astype(str)\n",
    "df[\"Side_moda\"]=(df[\"Side_moda\"]==\"R\")*1\n",
    "df[\"Weekend\"]=df[\"Weekday\"].map(lambda x: 1 if x==\"Sat\" or x==\"Sun\" else 0)"
   ]
  },
  {
   "cell_type": "code",
   "execution_count": null,
   "metadata": {},
   "outputs": [],
   "source": [
    "df=df.reset_index(drop=True)"
   ]
  },
  {
   "cell_type": "code",
   "execution_count": null,
   "metadata": {},
   "outputs": [],
   "source": [
    "cat=[\"State\",\"Timezone\",\"Hour\",\"Weekend\",\n",
    "     \"Month\",\"Side_moda\",\"Wind_Direction_moda\",\"Weather_moda\"]\n",
    "cont=[x for x in df.columns if x not in cat+[\"Severity\",\"Source\",\"Distance(mi)\",\"Weekday\",\n",
    "                                            \"Year\",\"TimeMinutes\"]]"
   ]
  },
  {
   "cell_type": "code",
   "execution_count": null,
   "metadata": {},
   "outputs": [],
   "source": [
    "dic={1:0,2:0,3:1,4:1}\n",
    "df[\"target\"]=df[\"Severity\"].replace(dic)"
   ]
  },
  {
   "cell_type": "code",
   "execution_count": null,
   "metadata": {},
   "outputs": [],
   "source": [
    "X = df[cont].join(pd.get_dummies(df[cat]))\n",
    "y = df[\"target\"]"
   ]
  },
  {
   "cell_type": "code",
   "execution_count": null,
   "metadata": {},
   "outputs": [],
   "source": [
    "columnas_mejor_modelo=['Start_Lat', 'Amenity', 'Crossing','Junction', 'Station',\n",
    " 'Stop', 'Traffic_Signal', 'State_Freq', 'Airport_Freq', 'Weekend', 'Side_moda',\n",
    " 'State_AZ', 'State_CA', 'State_CT', 'State_GA', 'State_IL', 'State_LA', 'State_MN',\n",
    " 'State_MO', 'State_NC', 'State_OK', 'State_RI', 'State_SC', 'State_TX','State_VA',\n",
    " 'Timezone_US/Central', 'Timezone_US/Pacific', 'Hour_7', 'Hour_8', 'Weather_moda_Fair']"
   ]
  },
  {
   "cell_type": "code",
   "execution_count": null,
   "metadata": {},
   "outputs": [],
   "source": [
    "X=X[columnas_mejor_modelo]"
   ]
  },
  {
   "cell_type": "code",
   "execution_count": null,
   "metadata": {},
   "outputs": [],
   "source": [
    "modelo=pd.read_pickle(\"modelos/regresion_logistica.pickle\")"
   ]
  },
  {
   "cell_type": "code",
   "execution_count": null,
   "metadata": {},
   "outputs": [],
   "source": [
    "modelo"
   ]
  },
  {
   "cell_type": "code",
   "execution_count": null,
   "metadata": {},
   "outputs": [],
   "source": [
    "list(zip(columnas_mejor_modelo,modelo.coef_[0]))"
   ]
  },
  {
   "cell_type": "code",
   "execution_count": null,
   "metadata": {},
   "outputs": [],
   "source": [
    "modelo.score(X, y)"
   ]
  },
  {
   "cell_type": "code",
   "execution_count": null,
   "metadata": {},
   "outputs": [],
   "source": [
    "df[\"proba\"] = modelo.predict_proba(X)[:, 1]"
   ]
  },
  {
   "cell_type": "code",
   "execution_count": null,
   "metadata": {},
   "outputs": [],
   "source": [
    "df[\"y_hat\"] = modelo.predict(X)"
   ]
  },
  {
   "cell_type": "code",
   "execution_count": null,
   "metadata": {},
   "outputs": [],
   "source": [
    "aux = df[[\"target\", \"y_hat\", \"proba\"]]"
   ]
  },
  {
   "cell_type": "code",
   "execution_count": null,
   "metadata": {},
   "outputs": [],
   "source": [
    "target=\"target\""
   ]
  },
  {
   "cell_type": "code",
   "execution_count": null,
   "metadata": {},
   "outputs": [],
   "source": [
    "df_res = pd.DataFrame()\n",
    "for i in range(100):\n",
    "    try:\n",
    "        tn, fp, fn, tp = confusion_matrix(aux.loc[aux[\"proba\"]>=i/100, target], aux.loc[aux[\"proba\"]>=i/100, \"y_hat\"]).ravel()\n",
    "        df_res.loc[i/100, \"specificity\"] = 1- tn / (fp+tn)\n",
    "        df_res.loc[i/100, \"sensitivity\"] = tp / (tp+fn)\n",
    "    except:\n",
    "        df_res.loc[i/100, \"specificity\"] = 0\n",
    "        df_res.loc[i/100, \"sensitivity\"] = 0"
   ]
  },
  {
   "cell_type": "code",
   "execution_count": null,
   "metadata": {},
   "outputs": [],
   "source": [
    "df_res"
   ]
  },
  {
   "cell_type": "code",
   "execution_count": null,
   "metadata": {},
   "outputs": [],
   "source": [
    "df_res.sort_values(by = \"sensitivity\").set_index(\"specificity\").iplot(kind=\"scatter\", mode=\"markers+lines\")"
   ]
  },
  {
   "cell_type": "code",
   "execution_count": null,
   "metadata": {},
   "outputs": [],
   "source": [
    "df[[\"target\",\"Distance(mi)\"]].groupby(by=\"target\").agg(\"mean\")"
   ]
  },
  {
   "cell_type": "markdown",
   "metadata": {},
   "source": [
    "# Continuas"
   ]
  },
  {
   "cell_type": "code",
   "execution_count": null,
   "metadata": {},
   "outputs": [],
   "source": [
    "df=pd.read_csv(\"modelos/Columnas_modelo_continuo_timeminutes.csv\")"
   ]
  },
  {
   "cell_type": "code",
   "execution_count": null,
   "metadata": {},
   "outputs": [],
   "source": [
    "modelo=pd.read_pickle(\"modelos/regresion_Ridge.pickle\")"
   ]
  },
  {
   "cell_type": "code",
   "execution_count": null,
   "metadata": {},
   "outputs": [],
   "source": [
    "df[\"coeficientes\"]=modelo.coef_"
   ]
  },
  {
   "cell_type": "code",
   "execution_count": null,
   "metadata": {},
   "outputs": [],
   "source": [
    "df.sort_values(by=\"coeficientes\")"
   ]
  },
  {
   "cell_type": "code",
   "execution_count": null,
   "metadata": {},
   "outputs": [],
   "source": [
    "df=pd.read_pickle(\"Tabla_Proyecto_Limpia_forma1.pkl\")\n",
    "df=df[df[\"Source\"]==\"MapQuest\"].copy()"
   ]
  },
  {
   "cell_type": "code",
   "execution_count": null,
   "metadata": {},
   "outputs": [],
   "source": [
    "aux=df[[\"Weather_moda\",\"TimeMinutes\"]].groupby(by=[\"Weather_moda\"]).agg(\"mean\")"
   ]
  },
  {
   "cell_type": "code",
   "execution_count": null,
   "metadata": {},
   "outputs": [],
   "source": [
    "aux=aux.sort_values(by=\"TimeMinutes\", ascending=False)"
   ]
  },
  {
   "cell_type": "code",
   "execution_count": null,
   "metadata": {},
   "outputs": [],
   "source": [
    "aux.iplot(kind='bar',title='Tiempo promedio de los accidentes',color=['blue'],\n",
    "                            theme='white',yTitle='Minutos',xTitle='Clima')"
   ]
  },
  {
   "cell_type": "code",
   "execution_count": null,
   "metadata": {},
   "outputs": [],
   "source": []
  },
  {
   "cell_type": "code",
   "execution_count": null,
   "metadata": {},
   "outputs": [],
   "source": []
  },
  {
   "cell_type": "code",
   "execution_count": 2,
   "metadata": {},
   "outputs": [],
   "source": [
    "modelo=pd.read_pickle(\"modelos/credit_scoring.pkl\")"
   ]
  },
  {
   "cell_type": "code",
   "execution_count": 3,
   "metadata": {},
   "outputs": [
    {
     "data": {
      "text/plain": [
       "LogisticRegression(C=0.05, solver='saga', tol=0.01)"
      ]
     },
     "execution_count": 3,
     "metadata": {},
     "output_type": "execute_result"
    }
   ],
   "source": [
    "modelo"
   ]
  },
  {
   "cell_type": "code",
   "execution_count": 4,
   "metadata": {},
   "outputs": [],
   "source": [
    "variables_usadas_en_los_modelos=['Side_moda', 'Traffic_Signal', 'State', 'Crossing', 'Weekday',\n",
    "       'Junction', 'Stop', 'Hour', 'Timezone', 'Amenity', 'Station',\n",
    "       'Start_Lng', 'Weather_moda']"
   ]
  },
  {
   "cell_type": "code",
   "execution_count": 5,
   "metadata": {},
   "outputs": [
    {
     "data": {
      "text/plain": [
       "[('Side_moda', -0.9036372867263275),\n",
       " ('Traffic_Signal', -0.7830803532227957),\n",
       " ('State', -0.7869853425180692),\n",
       " ('Crossing', -0.4306838278877023),\n",
       " ('Weekday', -0.7261759599322303),\n",
       " ('Junction', -0.43636341194058703),\n",
       " ('Stop', -0.8813722597006128),\n",
       " ('Hour', -0.8338485202977018),\n",
       " ('Timezone', 0.5303164174695902),\n",
       " ('Amenity', -0.5765353825918578),\n",
       " ('Station', -0.4696991690009925),\n",
       " ('Start_Lng', -0.014704279495636692),\n",
       " ('Weather_moda', -0.8582557841735139)]"
      ]
     },
     "execution_count": 5,
     "metadata": {},
     "output_type": "execute_result"
    }
   ],
   "source": [
    "list(zip(variables_usadas_en_los_modelos,modelo.coef_[0]))"
   ]
  },
  {
   "cell_type": "code",
   "execution_count": null,
   "metadata": {},
   "outputs": [],
   "source": []
  }
 ],
 "metadata": {
  "kernelspec": {
   "display_name": "Python 3",
   "language": "python",
   "name": "python3"
  },
  "language_info": {
   "codemirror_mode": {
    "name": "ipython",
    "version": 3
   },
   "file_extension": ".py",
   "mimetype": "text/x-python",
   "name": "python",
   "nbconvert_exporter": "python",
   "pygments_lexer": "ipython3",
   "version": "3.7.7"
  }
 },
 "nbformat": 4,
 "nbformat_minor": 4
}
