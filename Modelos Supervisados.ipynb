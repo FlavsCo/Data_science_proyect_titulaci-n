{
 "cells": [
  {
   "cell_type": "code",
   "execution_count": null,
   "metadata": {},
   "outputs": [],
   "source": [
    "import pandas as pd\n",
    "import numpy as np\n",
    "import seaborn as sns\n",
    "import pygal\n",
    "import matplotlib.pyplot as plt\n",
    "import cufflinks as cf\n",
    "from sklearn.preprocessing import KBinsDiscretizer\n",
    "import unicodedata\n",
    "import re\n",
    "import nltk\n",
    "from nltk.corpus import stopwords\n",
    "from sklearn.feature_extraction.text import CountVectorizer, TfidfVectorizer\n",
    "from sklearn.naive_bayes import MultinomialNB, GaussianNB, BernoulliNB\n",
    "from sklearn.utils import resample\n",
    "from sklearn.preprocessing import PolynomialFeatures\n",
    "from sklearn.feature_selection import SelectKBest, f_classif,f_regression\n",
    "from sklearn.model_selection import cross_val_score, train_test_split\n",
    "from sklearn.linear_model import LogisticRegression\n",
    "from sklearn.linear_model import Ridge, Lasso, ElasticNet, BayesianRidge, Lars,  LinearRegression\n",
    "from sklearn.metrics import roc_auc_score,r2_score,confusion_matrix\n",
    "from sklearn.model_selection import GridSearchCV, RandomizedSearchCV\n",
    "cf.go_offline()\n",
    "pd.set_option('display.max_columns',300)\n",
    "pd.set_option('display.max_rows',300)"
   ]
  },
  {
   "cell_type": "code",
   "execution_count": null,
   "metadata": {},
   "outputs": [],
   "source": [
    "df=pd.read_pickle(\"Tabla_Proyecto_Limpia_forma1.pkl\")"
   ]
  },
  {
   "cell_type": "code",
   "execution_count": null,
   "metadata": {},
   "outputs": [],
   "source": [
    "quitar=['TMC','Start_Time', 'End_Time', 'Description', 'Street','Side','City','County','Zipcode',\n",
    "          'Airport_Code','Temperature(F)', 'Humidity(%)', 'Pressure(in)', 'Visibility(mi)',\n",
    "       'Wind_Direction', 'Wind_Speed(mph)', 'Weather_Condition','City_Freq','Weather', 'Temperature(F)_Escalado', 'Humidity(%)_Escalado',\n",
    "       'Pressure(in)_Escalado', 'Visibility(mi)_Escalado',\n",
    "       'Wind_Speed(mph)_Escalado','Day']"
   ]
  },
  {
   "cell_type": "code",
   "execution_count": null,
   "metadata": {},
   "outputs": [],
   "source": [
    "columnas=[x for x in df.columns if x not in quitar]"
   ]
  },
  {
   "cell_type": "code",
   "execution_count": null,
   "metadata": {},
   "outputs": [],
   "source": [
    "df=df[columnas]"
   ]
  },
  {
   "cell_type": "code",
   "execution_count": null,
   "metadata": {},
   "outputs": [],
   "source": [
    "df.info()"
   ]
  },
  {
   "cell_type": "code",
   "execution_count": null,
   "metadata": {},
   "outputs": [],
   "source": [
    "df[\"Amenity\"]=df[\"Amenity\"]*1\n",
    "df[\"Crossing\"]=df[\"Crossing\"]*1\n",
    "df[\"Junction\"]=df[\"Junction\"]*1\n",
    "df[\"Station\"]=df[\"Station\"]*1\n",
    "df[\"Stop\"]=df[\"Stop\"]*1\n",
    "df[\"Traffic_Signal\"]=df[\"Traffic_Signal\"]*1\n",
    "df[\"Hour\"]=df[\"Hour\"].astype(str)\n",
    "df[\"Year\"]=df[\"Year\"].astype(str)\n",
    "df[\"Side_moda\"]=(df[\"Side_moda\"]==\"R\")*1\n",
    "df[\"Weekend\"]=df[\"Weekday\"].map(lambda x: 1 if x==\"Sat\" or x==\"Sun\" else 0)"
   ]
  },
  {
   "cell_type": "code",
   "execution_count": null,
   "metadata": {},
   "outputs": [],
   "source": [
    "df[\"Source\"].value_counts()"
   ]
  },
  {
   "cell_type": "code",
   "execution_count": null,
   "metadata": {},
   "outputs": [],
   "source": [
    "df1=df[df[\"Source\"]==\"MapQuest\"].copy()\n",
    "df1=df1.reset_index(drop=True)"
   ]
  },
  {
   "cell_type": "markdown",
   "metadata": {},
   "source": [
    "## definimos variables"
   ]
  },
  {
   "cell_type": "code",
   "execution_count": null,
   "metadata": {},
   "outputs": [],
   "source": [
    "cat=[\"State\",\"Timezone\",\"Hour\",\"Weekend\",\n",
    "     \"Month\",\"Side_moda\",\"Wind_Direction_moda\",\"Weather_moda\"]\n",
    "cont=[x for x in df.columns if x not in cat+[\"Severity\",\"Source\",\"Distance(mi)\",\"Weekday\",\n",
    "                                            \"Year\",\"TimeMinutes\"]]"
   ]
  },
  {
   "cell_type": "code",
   "execution_count": null,
   "metadata": {},
   "outputs": [],
   "source": [
    "#df[\"Severity\"].value_counts(1)\n",
    "df1[\"Severity\"].value_counts(1)"
   ]
  },
  {
   "cell_type": "code",
   "execution_count": null,
   "metadata": {},
   "outputs": [],
   "source": [
    "dic={1:0,2:0,3:1,4:1}\n",
    "#df[\"target\"]=df[\"Severity\"].replace(dic)\n",
    "df1[\"target\"]=df1[\"Severity\"].replace(dic)"
   ]
  },
  {
   "cell_type": "markdown",
   "metadata": {},
   "source": [
    "# Continuamos"
   ]
  },
  {
   "cell_type": "code",
   "execution_count": null,
   "metadata": {},
   "outputs": [],
   "source": [
    "X = df1[cont].join(pd.get_dummies(df1[cat]))\n",
    "y = df1[\"target\"]"
   ]
  },
  {
   "cell_type": "code",
   "execution_count": null,
   "metadata": {},
   "outputs": [],
   "source": [
    "print('\\nUnique values :  \\n',X.nunique())"
   ]
  },
  {
   "cell_type": "markdown",
   "metadata": {},
   "source": [
    "# k-best"
   ]
  },
  {
   "cell_type": "code",
   "execution_count": null,
   "metadata": {},
   "outputs": [],
   "source": [
    "kb = SelectKBest(k=30, score_func=f_classif)"
   ]
  },
  {
   "cell_type": "code",
   "execution_count": null,
   "metadata": {},
   "outputs": [],
   "source": [
    "kb.fit(X, y)"
   ]
  },
  {
   "cell_type": "code",
   "execution_count": null,
   "metadata": {},
   "outputs": [],
   "source": [
    "ls_best= [x for x, y in zip(X.columns, kb.get_support()) if y]"
   ]
  },
  {
   "cell_type": "code",
   "execution_count": null,
   "metadata": {},
   "outputs": [],
   "source": [
    "ls_best"
   ]
  },
  {
   "cell_type": "code",
   "execution_count": null,
   "metadata": {},
   "outputs": [],
   "source": [
    "X = X[ls_best]"
   ]
  },
  {
   "cell_type": "code",
   "execution_count": null,
   "metadata": {},
   "outputs": [],
   "source": [
    "X_train, X_test, y_train, y_test = train_test_split(X, y)"
   ]
  },
  {
   "cell_type": "markdown",
   "metadata": {},
   "source": [
    "### Remuestreo"
   ]
  },
  {
   "cell_type": "code",
   "execution_count": null,
   "metadata": {},
   "outputs": [],
   "source": [
    "X_train.shape"
   ]
  },
  {
   "cell_type": "code",
   "execution_count": null,
   "metadata": {},
   "outputs": [],
   "source": [
    "X_train=X_train.reset_index(drop=True)\n",
    "y_train=y_train.reset_index(drop=True)"
   ]
  },
  {
   "cell_type": "code",
   "execution_count": null,
   "metadata": {},
   "outputs": [],
   "source": [
    "X_train[\"target\"]=y_train"
   ]
  },
  {
   "cell_type": "code",
   "execution_count": null,
   "metadata": {},
   "outputs": [],
   "source": [
    "X_train.shape"
   ]
  },
  {
   "cell_type": "code",
   "execution_count": null,
   "metadata": {},
   "outputs": [],
   "source": [
    "X_train[\"target\"].value_counts()"
   ]
  },
  {
   "cell_type": "code",
   "execution_count": null,
   "metadata": {},
   "outputs": [],
   "source": [
    "df_majority = X_train[X_train.target==0].copy()\n",
    "df_minority = X_train[X_train.target==1].copy()"
   ]
  },
  {
   "cell_type": "code",
   "execution_count": null,
   "metadata": {},
   "outputs": [],
   "source": [
    "df_majority=df_majority.reset_index(drop=True)\n",
    "df_minority=df_minority.reset_index(drop=True)"
   ]
  },
  {
   "cell_type": "code",
   "execution_count": null,
   "metadata": {},
   "outputs": [],
   "source": [
    "df_sampled = resample(df_minority,#df_majority \n",
    "                                 replace=True,     #False\n",
    "                                 n_samples=1010756,    # to match class\n",
    "                                 random_state=123)"
   ]
  },
  {
   "cell_type": "code",
   "execution_count": null,
   "metadata": {},
   "outputs": [],
   "source": [
    "#df = pd.concat([df_minority, df_sampled],axis=0)\n",
    "X_train = pd.concat([df_majority, df_sampled],axis=0)\n",
    "y_train=X_train[\"target\"]"
   ]
  },
  {
   "cell_type": "code",
   "execution_count": null,
   "metadata": {},
   "outputs": [],
   "source": [
    "X_train=X_train.drop(['target'], axis=1)"
   ]
  },
  {
   "cell_type": "code",
   "execution_count": null,
   "metadata": {},
   "outputs": [],
   "source": [
    "y_train.value_counts()"
   ]
  },
  {
   "cell_type": "code",
   "execution_count": null,
   "metadata": {},
   "outputs": [],
   "source": [
    "del df,df_majority,df_minority,df_sampled"
   ]
  },
  {
   "cell_type": "markdown",
   "metadata": {},
   "source": [
    "### Modelado"
   ]
  },
  {
   "cell_type": "code",
   "execution_count": null,
   "metadata": {},
   "outputs": [],
   "source": [
    "logreg = LogisticRegression()"
   ]
  },
  {
   "cell_type": "code",
   "execution_count": null,
   "metadata": {},
   "outputs": [],
   "source": [
    "logreg.fit(X_train, y_train)"
   ]
  },
  {
   "cell_type": "code",
   "execution_count": null,
   "metadata": {},
   "outputs": [],
   "source": [
    "logreg.score(X_test, y_test)"
   ]
  },
  {
   "cell_type": "code",
   "execution_count": null,
   "metadata": {},
   "outputs": [],
   "source": [
    "ls_scores = cross_val_score(X=X_train, y=y_train, cv = 4, estimator=logreg, scoring=\"roc_auc\")"
   ]
  },
  {
   "cell_type": "code",
   "execution_count": null,
   "metadata": {},
   "outputs": [],
   "source": [
    "np.mean(ls_scores), np.std(ls_scores)"
   ]
  },
  {
   "cell_type": "code",
   "execution_count": null,
   "metadata": {},
   "outputs": [],
   "source": [
    "roc_auc_score(y_score=logreg.predict(X_test), y_true=y_test)"
   ]
  },
  {
   "cell_type": "code",
   "execution_count": null,
   "metadata": {},
   "outputs": [],
   "source": [
    "confusion_matrix(y_true=y_test, y_pred=logreg.predict(X_test))"
   ]
  },
  {
   "cell_type": "code",
   "execution_count": null,
   "metadata": {
    "scrolled": true
   },
   "outputs": [],
   "source": [
    "pd.DataFrame(list(zip(ls_best,logreg.coef_[0]))).sort_values(by = 1)"
   ]
  },
  {
   "cell_type": "code",
   "execution_count": null,
   "metadata": {},
   "outputs": [],
   "source": [
    "param_grid = {\"penalty\" : ['l1', 'l2', 'elasticnet'],\n",
    "    \"tol\": [0.00001, 0.0000001, 0.01],\n",
    "    \"solver\" : [ 'liblinear', 'saga'],\n",
    "     \"C\":[x/100 for x in range(0, 101,5)]         \n",
    "}"
   ]
  },
  {
   "cell_type": "code",
   "execution_count": null,
   "metadata": {},
   "outputs": [],
   "source": [
    "np.prod(list(map(len, param_grid.values())))"
   ]
  },
  {
   "cell_type": "code",
   "execution_count": null,
   "metadata": {},
   "outputs": [],
   "source": [
    "%%time\n",
    "clf = RandomizedSearchCV(n_iter=50, estimator=logreg, param_distributions=param_grid, cv=4, error_score=-1000, n_jobs=-1, scoring=\"roc_auc\", verbose=5)\n",
    "clf.fit(X_train, y_train)\n",
    "print(\"Best score: \" + str(clf.best_score_))"
   ]
  },
  {
   "cell_type": "code",
   "execution_count": null,
   "metadata": {},
   "outputs": [],
   "source": [
    "clf.best_estimator_.get_params"
   ]
  },
  {
   "cell_type": "code",
   "execution_count": null,
   "metadata": {},
   "outputs": [],
   "source": [
    "LogisticRegression?"
   ]
  },
  {
   "cell_type": "code",
   "execution_count": null,
   "metadata": {},
   "outputs": [],
   "source": [
    "roc_auc_score(y_score=clf.best_estimator_.predict(X_test), y_true=y_test)"
   ]
  },
  {
   "cell_type": "code",
   "execution_count": null,
   "metadata": {},
   "outputs": [],
   "source": [
    "confusion_matrix(y_true=y_test, y_pred=clf.best_estimator_.predict(X_test))"
   ]
  },
  {
   "cell_type": "code",
   "execution_count": null,
   "metadata": {},
   "outputs": [],
   "source": [
    "pd.DataFrame(list(zip(ls_best,clf.best_estimator_.coef_[0]))).sort_values(by = 1)"
   ]
  },
  {
   "cell_type": "code",
   "execution_count": null,
   "metadata": {},
   "outputs": [],
   "source": [
    "summary = pd.DataFrame(clf.cv_results_)"
   ]
  },
  {
   "cell_type": "code",
   "execution_count": null,
   "metadata": {},
   "outputs": [],
   "source": [
    "summary.sort_values(by = \"rank_test_score\")"
   ]
  },
  {
   "cell_type": "code",
   "execution_count": null,
   "metadata": {},
   "outputs": [],
   "source": [
    "#pd.to_pickle(clf.best_estimator_, \"regresion_logistica.pickle\")"
   ]
  },
  {
   "cell_type": "code",
   "execution_count": null,
   "metadata": {},
   "outputs": [],
   "source": [
    "modelo_ant=pd.read_pickle(\"regresion_logistica.pickle\")### ROC 0.7271650753733115"
   ]
  },
  {
   "cell_type": "code",
   "execution_count": null,
   "metadata": {},
   "outputs": [],
   "source": [
    "roc_auc_score(y_score=modelo_ant.predict(X_test), y_true=y_test)"
   ]
  },
  {
   "cell_type": "code",
   "execution_count": null,
   "metadata": {},
   "outputs": [],
   "source": [
    "columnas_mejor_modelo=['Start_Lat', 'Amenity', 'Crossing','Junction', 'Station',\n",
    " 'Stop', 'Traffic_Signal', 'State_Freq', 'Airport_Freq', 'Weekend', 'Side_moda',\n",
    " 'State_AZ', 'State_CA', 'State_CT', 'State_GA', 'State_IL', 'State_LA', 'State_MN',\n",
    " 'State_MO', 'State_NC', 'State_OK', 'State_RI', 'State_SC', 'State_TX','State_VA',\n",
    " 'Timezone_US/Central', 'Timezone_US/Pacific', 'Hour_7', 'Hour_8', 'Weather_moda_Fair']"
   ]
  },
  {
   "cell_type": "markdown",
   "metadata": {},
   "source": [
    "#### Modelo preservado"
   ]
  },
  {
   "cell_type": "code",
   "execution_count": null,
   "metadata": {},
   "outputs": [],
   "source": [
    "modelo=pd.read_pickle(\"regresion_logistica.pickle\")"
   ]
  },
  {
   "cell_type": "code",
   "execution_count": null,
   "metadata": {},
   "outputs": [],
   "source": [
    "pd.DataFrame(list(zip(ls_best,modelo.coef_[0]))).sort_values(by = 1)"
   ]
  },
  {
   "cell_type": "code",
   "execution_count": null,
   "metadata": {},
   "outputs": [],
   "source": [
    "roc_auc_score(y_score=modelo.predict(X_test), y_true=y_test)"
   ]
  },
  {
   "cell_type": "code",
   "execution_count": null,
   "metadata": {},
   "outputs": [],
   "source": [
    "confusion_matrix(y_true=y_test, y_pred=modelo.predict(X_test))"
   ]
  },
  {
   "cell_type": "code",
   "execution_count": null,
   "metadata": {},
   "outputs": [],
   "source": [
    "pd.DataFrame(list(zip(ls_best,modelo.coef_[0]))).sort_values(by = 1)"
   ]
  },
  {
   "cell_type": "markdown",
   "metadata": {},
   "source": [
    "# Modelo continuo"
   ]
  },
  {
   "cell_type": "markdown",
   "metadata": {},
   "source": [
    "### volver a generar el df"
   ]
  },
  {
   "cell_type": "code",
   "execution_count": null,
   "metadata": {},
   "outputs": [],
   "source": [
    "df=pd.read_pickle(\"Tabla_Proyecto_Limpia_forma1.pkl\")"
   ]
  },
  {
   "cell_type": "code",
   "execution_count": null,
   "metadata": {},
   "outputs": [],
   "source": [
    "quitar=['TMC','Start_Time', 'End_Time', 'Description', 'Street','Side','City','County','Zipcode',\n",
    "          'Airport_Code','Temperature(F)', 'Humidity(%)', 'Pressure(in)'\n",
    "        , 'Visibility(mi)', 'Wind_Speed(mph)',\n",
    "       'Wind_Direction', 'Weather_Condition','City_Freq','Weather', 'Temperature(F)_Escalado', 'Humidity(%)_Escalado',\n",
    "       'Pressure(in)_Escalado', 'Visibility(mi)_Escalado',\n",
    "       'Wind_Speed(mph)_Escalado','Day']"
   ]
  },
  {
   "cell_type": "code",
   "execution_count": null,
   "metadata": {},
   "outputs": [],
   "source": [
    "columnas=[x for x in df.columns if x not in quitar]"
   ]
  },
  {
   "cell_type": "code",
   "execution_count": null,
   "metadata": {},
   "outputs": [],
   "source": [
    "df=df[columnas]"
   ]
  },
  {
   "cell_type": "code",
   "execution_count": null,
   "metadata": {},
   "outputs": [],
   "source": [
    "df[\"Amenity\"]=df[\"Amenity\"]*1\n",
    "df[\"Crossing\"]=df[\"Crossing\"]*1\n",
    "df[\"Junction\"]=df[\"Junction\"]*1\n",
    "df[\"Station\"]=df[\"Station\"]*1\n",
    "df[\"Stop\"]=df[\"Stop\"]*1\n",
    "df[\"Traffic_Signal\"]=df[\"Traffic_Signal\"]*1\n",
    "df[\"Hour\"]=df[\"Hour\"].astype(str)\n",
    "df[\"Year\"]=df[\"Year\"].astype(str)\n",
    "df[\"Side_moda\"]=(df[\"Side_moda\"]==\"R\")*1\n",
    "df[\"Weekend\"]=df[\"Weekday\"].map(lambda x: 1 if x==\"Sat\" or x==\"Sun\" else 0)"
   ]
  },
  {
   "cell_type": "code",
   "execution_count": null,
   "metadata": {},
   "outputs": [],
   "source": [
    "df=df[df[\"Source\"]==\"MapQuest\"].copy()\n",
    "df=df.drop(columns=[\"Source\"])\n",
    "df=df.reset_index(drop=True)"
   ]
  },
  {
   "cell_type": "code",
   "execution_count": null,
   "metadata": {},
   "outputs": [],
   "source": [
    "df=df[df[\"TimeMinutes\"]<=df[\"TimeMinutes\"].quantile(.99)].copy()\n",
    "df=df.reset_index(drop=True)"
   ]
  },
  {
   "cell_type": "code",
   "execution_count": null,
   "metadata": {},
   "outputs": [],
   "source": [
    "sns.boxplot(x=\"Severity\", y=\"TimeMinutes\",showfliers=False ,data=df)#Distance(mi)"
   ]
  },
  {
   "cell_type": "code",
   "execution_count": null,
   "metadata": {},
   "outputs": [],
   "source": [
    "df.describe(np.arange(.05,1,.05))#[.99]"
   ]
  },
  {
   "cell_type": "code",
   "execution_count": null,
   "metadata": {},
   "outputs": [],
   "source": [
    "df.columns"
   ]
  },
  {
   "cell_type": "code",
   "execution_count": null,
   "metadata": {},
   "outputs": [],
   "source": [
    "pol=[ 'Start_Lat', 'Start_Lng','Temperature(F)_Escalado_KNN',\n",
    " 'Humidity(%)_Escalado_KNN',\n",
    " 'Pressure(in)_Escalado_KNN',\n",
    " 'Visibility(mi)_Escalado_KNN',\n",
    " 'Wind_Speed(mph)_Escalado_KNN']"
   ]
  },
  {
   "cell_type": "code",
   "execution_count": null,
   "metadata": {},
   "outputs": [],
   "source": [
    "df.shape"
   ]
  },
  {
   "cell_type": "code",
   "execution_count": null,
   "metadata": {},
   "outputs": [],
   "source": [
    "df1=df.sample(frac=.6,random_state=1)"
   ]
  },
  {
   "cell_type": "code",
   "execution_count": null,
   "metadata": {},
   "outputs": [],
   "source": [
    "#del df\n",
    "df1.shape"
   ]
  },
  {
   "cell_type": "code",
   "execution_count": null,
   "metadata": {},
   "outputs": [],
   "source": [
    "#cortes=[\"Temperature(F)\",\"Humidity(%)\",\"Pressure(in)\",\"Visibility(mi)\",\"Wind_Speed(mph)\"]"
   ]
  },
  {
   "cell_type": "code",
   "execution_count": null,
   "metadata": {},
   "outputs": [],
   "source": [
    "#df1[cortes].describe()"
   ]
  },
  {
   "cell_type": "code",
   "execution_count": null,
   "metadata": {},
   "outputs": [],
   "source": [
    "#for var in cortes:\n",
    "#    df[f\"cut_{var}\"]=pd.cut(df[var],bins=7).astype(str)"
   ]
  },
  {
   "cell_type": "code",
   "execution_count": null,
   "metadata": {},
   "outputs": [],
   "source": [
    "cat=[\"State\",\"Timezone\",\"Hour\",\"Weekend\",\n",
    "     \"Month\",\"Side_moda\",\"Wind_Direction_moda\",\"Weather_moda\"]#,\"cut_Temperature(F)\",\"cut_Humidity(%)\",\"cut_Pressure(in)\",\"cut_Visibility(mi)\",\"cut_Wind_Speed(mph)\"\n",
    "cont=[x for x in df1.columns if x not in cat+[\"Severity\",\"Source\",\"Distance(mi)\",\"Weekday\",\n",
    "                                            \"Year\",\"TimeMinutes\"]]#+cortes"
   ]
  },
  {
   "cell_type": "code",
   "execution_count": null,
   "metadata": {},
   "outputs": [],
   "source": [
    "cont"
   ]
  },
  {
   "cell_type": "markdown",
   "metadata": {},
   "source": [
    "### Definimos variables"
   ]
  },
  {
   "cell_type": "code",
   "execution_count": null,
   "metadata": {},
   "outputs": [],
   "source": [
    "poly = PolynomialFeatures(3)\n",
    "df_pol = poly.fit_transform(df[pol])\n",
    "df_pol = pd.DataFrame(columns=poly.get_feature_names(), data=df_pol)\n",
    "df=pd.concat([df,df_pol],axis=1)"
   ]
  },
  {
   "cell_type": "code",
   "execution_count": null,
   "metadata": {},
   "outputs": [],
   "source": [
    "cont2=[x for x in df.columns if x not in cat+[\"Severity\",\"Source\",\"Distance(mi)\",\"Weekday\",\n",
    "                                            \"Year\",\"TimeMinutes\"]]"
   ]
  },
  {
   "cell_type": "code",
   "execution_count": null,
   "metadata": {},
   "outputs": [],
   "source": [
    "X = df1[cont].join(pd.get_dummies(df1[cat]))\n",
    "y = df1[\"TimeMinutes\"]#Distance(mi)"
   ]
  },
  {
   "cell_type": "code",
   "execution_count": null,
   "metadata": {},
   "outputs": [],
   "source": [
    "del df1"
   ]
  },
  {
   "cell_type": "code",
   "execution_count": null,
   "metadata": {},
   "outputs": [],
   "source": [
    "y.describe()"
   ]
  },
  {
   "cell_type": "markdown",
   "metadata": {},
   "source": [
    "#### k-best"
   ]
  },
  {
   "cell_type": "code",
   "execution_count": null,
   "metadata": {},
   "outputs": [],
   "source": [
    "kb = SelectKBest(k=50, score_func=f_classif)"
   ]
  },
  {
   "cell_type": "code",
   "execution_count": null,
   "metadata": {},
   "outputs": [],
   "source": [
    "kb.fit(X, y)"
   ]
  },
  {
   "cell_type": "code",
   "execution_count": null,
   "metadata": {},
   "outputs": [],
   "source": [
    "ls_best= [x for x, y in zip(X.columns, kb.get_support()) if y]"
   ]
  },
  {
   "cell_type": "code",
   "execution_count": null,
   "metadata": {
    "scrolled": true
   },
   "outputs": [],
   "source": [
    "ls_best"
   ]
  },
  {
   "cell_type": "code",
   "execution_count": null,
   "metadata": {},
   "outputs": [],
   "source": [
    "X=X[ls_best]"
   ]
  },
  {
   "cell_type": "code",
   "execution_count": null,
   "metadata": {},
   "outputs": [],
   "source": [
    "X_train, X_test, y_train, y_test = train_test_split(X, y)"
   ]
  },
  {
   "cell_type": "markdown",
   "metadata": {},
   "source": [
    "### Modelos sin optimizar"
   ]
  },
  {
   "cell_type": "markdown",
   "metadata": {},
   "source": [
    "######  Regresion_lineal"
   ]
  },
  {
   "cell_type": "code",
   "execution_count": null,
   "metadata": {},
   "outputs": [],
   "source": [
    "model = LinearRegression()"
   ]
  },
  {
   "cell_type": "code",
   "execution_count": null,
   "metadata": {},
   "outputs": [],
   "source": [
    "model.fit(X_train, y_train)"
   ]
  },
  {
   "cell_type": "code",
   "execution_count": null,
   "metadata": {},
   "outputs": [],
   "source": [
    "model.score(X_train, y_train)"
   ]
  },
  {
   "cell_type": "code",
   "execution_count": null,
   "metadata": {},
   "outputs": [],
   "source": [
    "r2_score(y_pred=model.predict(X_test), y_true=y_test)"
   ]
  },
  {
   "cell_type": "code",
   "execution_count": null,
   "metadata": {},
   "outputs": [],
   "source": [
    "ls_medias = cross_val_score(estimator=model, X=X_test, y = y_test, cv = 4, n_jobs=-1, scoring=\"r2\")\n",
    "np.mean(ls_medias), np.std(ls_medias)"
   ]
  },
  {
   "cell_type": "markdown",
   "metadata": {},
   "source": [
    "######  Regresion_Ridge"
   ]
  },
  {
   "cell_type": "code",
   "execution_count": null,
   "metadata": {},
   "outputs": [],
   "source": [
    "model = Ridge()"
   ]
  },
  {
   "cell_type": "code",
   "execution_count": null,
   "metadata": {},
   "outputs": [],
   "source": [
    "model.fit(X_train, y_train)"
   ]
  },
  {
   "cell_type": "code",
   "execution_count": null,
   "metadata": {},
   "outputs": [],
   "source": [
    "model.score(X_train, y_train)"
   ]
  },
  {
   "cell_type": "code",
   "execution_count": null,
   "metadata": {},
   "outputs": [],
   "source": [
    "r2_score(y_pred=model.predict(X_test), y_true=y_test)"
   ]
  },
  {
   "cell_type": "code",
   "execution_count": null,
   "metadata": {},
   "outputs": [],
   "source": [
    "ls_medias = cross_val_score(estimator=model, X=X_test, y = y_test, cv = 4, n_jobs=-1, scoring=\"r2\")\n",
    "np.mean(ls_medias), np.std(ls_medias)"
   ]
  },
  {
   "cell_type": "markdown",
   "metadata": {},
   "source": [
    "######  Regresion_Lasso"
   ]
  },
  {
   "cell_type": "code",
   "execution_count": null,
   "metadata": {},
   "outputs": [],
   "source": [
    "model = Lasso()"
   ]
  },
  {
   "cell_type": "code",
   "execution_count": null,
   "metadata": {},
   "outputs": [],
   "source": [
    "model.fit(X_train, y_train)"
   ]
  },
  {
   "cell_type": "code",
   "execution_count": null,
   "metadata": {},
   "outputs": [],
   "source": [
    "model.score(X_test, y_test)"
   ]
  },
  {
   "cell_type": "code",
   "execution_count": null,
   "metadata": {},
   "outputs": [],
   "source": [
    "ls_medias = cross_val_score(estimator=model, X=X_test, y = y_test, cv = 4, n_jobs=-1, scoring=\"r2\")\n",
    "np.mean(ls_medias), np.std(ls_medias)"
   ]
  },
  {
   "cell_type": "markdown",
   "metadata": {},
   "source": [
    "######  Bayesian_Ridge"
   ]
  },
  {
   "cell_type": "code",
   "execution_count": null,
   "metadata": {},
   "outputs": [],
   "source": [
    "model = BayesianRidge()"
   ]
  },
  {
   "cell_type": "code",
   "execution_count": null,
   "metadata": {},
   "outputs": [],
   "source": [
    "model.fit(X_train, y_train)"
   ]
  },
  {
   "cell_type": "code",
   "execution_count": null,
   "metadata": {},
   "outputs": [],
   "source": [
    "model.score(X_test, y_test)"
   ]
  },
  {
   "cell_type": "code",
   "execution_count": null,
   "metadata": {},
   "outputs": [],
   "source": [
    "ls_medias = cross_val_score(estimator=model, X=X_test, y = y_test, cv = 4, n_jobs=-1, scoring=\"r2\")\n",
    "np.mean(ls_medias), np.std(ls_medias)"
   ]
  },
  {
   "cell_type": "markdown",
   "metadata": {},
   "source": [
    "######  Regresion_Lars"
   ]
  },
  {
   "cell_type": "code",
   "execution_count": null,
   "metadata": {},
   "outputs": [],
   "source": [
    "model = Lars()"
   ]
  },
  {
   "cell_type": "code",
   "execution_count": null,
   "metadata": {},
   "outputs": [],
   "source": [
    "model.fit(X_train, y_train)"
   ]
  },
  {
   "cell_type": "code",
   "execution_count": null,
   "metadata": {},
   "outputs": [],
   "source": [
    "model.score(X_test, y_test)"
   ]
  },
  {
   "cell_type": "code",
   "execution_count": null,
   "metadata": {},
   "outputs": [],
   "source": [
    "ls_medias = cross_val_score(estimator=model, X=X_test, y = y_test, cv = 4, n_jobs=-1, scoring=\"r2\")\n",
    "np.mean(ls_medias), np.std(ls_medias)"
   ]
  },
  {
   "cell_type": "markdown",
   "metadata": {},
   "source": [
    "######  Regresion_ElasticNet"
   ]
  },
  {
   "cell_type": "code",
   "execution_count": null,
   "metadata": {},
   "outputs": [],
   "source": [
    "model = ElasticNet()"
   ]
  },
  {
   "cell_type": "code",
   "execution_count": null,
   "metadata": {},
   "outputs": [],
   "source": [
    "model.fit(X_train, y_train)"
   ]
  },
  {
   "cell_type": "code",
   "execution_count": null,
   "metadata": {},
   "outputs": [],
   "source": [
    "model.score(X_test, y_test)"
   ]
  },
  {
   "cell_type": "code",
   "execution_count": null,
   "metadata": {},
   "outputs": [],
   "source": [
    "ls_medias = cross_val_score(estimator=model, X=X_test, y = y_test, cv = 4, n_jobs=-1, scoring=\"r2\")\n",
    "np.mean(ls_medias), np.std(ls_medias)"
   ]
  },
  {
   "cell_type": "markdown",
   "metadata": {},
   "source": [
    "#### Descartamos Lasso y ElasticNet"
   ]
  },
  {
   "cell_type": "markdown",
   "metadata": {},
   "source": [
    "# Optimizamos Parámetros"
   ]
  },
  {
   "cell_type": "code",
   "execution_count": null,
   "metadata": {},
   "outputs": [],
   "source": [
    "### La regresión Lineal no la podemos optimizar\n",
    "dc_scores = {}"
   ]
  },
  {
   "cell_type": "code",
   "execution_count": null,
   "metadata": {},
   "outputs": [],
   "source": [
    "model = Ridge()"
   ]
  },
  {
   "cell_type": "code",
   "execution_count": null,
   "metadata": {},
   "outputs": [],
   "source": [
    "Ridge?"
   ]
  },
  {
   "cell_type": "code",
   "execution_count": null,
   "metadata": {},
   "outputs": [],
   "source": [
    "param_grid = {\n",
    "    \"alpha\": [x for x in range(1, 100)] + [y/10 for y in range(10)],\n",
    "    \"tol\": [0.00001, 0.0000001, 0.01],\n",
    "    \"solver\": ['auto', 'svd', 'cholesky', 'lsqr', 'sparse_cg', 'sag', 'saga']\n",
    "}"
   ]
  },
  {
   "cell_type": "code",
   "execution_count": null,
   "metadata": {},
   "outputs": [],
   "source": [
    "np.prod(list(map(len, param_grid.values())))"
   ]
  },
  {
   "cell_type": "code",
   "execution_count": null,
   "metadata": {},
   "outputs": [],
   "source": [
    "%%time\n",
    "clf = RandomizedSearchCV(n_iter=25, estimator=model, param_distributions=param_grid, cv=4, error_score=-1000, n_jobs=-1, scoring=\"r2\", verbose=5)\n",
    "clf.fit(X_train, y_train)"
   ]
  },
  {
   "cell_type": "code",
   "execution_count": null,
   "metadata": {},
   "outputs": [],
   "source": [
    "dc_scores[str(model).split(\"(\")[0]] = {\"model\": clf.best_estimator_, \"score\": clf.best_score_}"
   ]
  },
  {
   "cell_type": "code",
   "execution_count": null,
   "metadata": {},
   "outputs": [],
   "source": [
    "dc_scores"
   ]
  },
  {
   "cell_type": "code",
   "execution_count": null,
   "metadata": {},
   "outputs": [],
   "source": [
    "clf.best_estimator_.get_params#'score': 0.20996117265901562"
   ]
  },
  {
   "cell_type": "code",
   "execution_count": null,
   "metadata": {},
   "outputs": [],
   "source": [
    "clf.best_estimator_.score(X_test, y_test)"
   ]
  },
  {
   "cell_type": "code",
   "execution_count": null,
   "metadata": {},
   "outputs": [],
   "source": [
    "#pd.to_pickle(clf.best_estimator_, \"regresion_Ridge.pickle\")"
   ]
  },
  {
   "cell_type": "code",
   "execution_count": null,
   "metadata": {},
   "outputs": [],
   "source": [
    "columnas=pd.DataFrame()\n",
    "columnas[\"Continuas\"]=X_test.columns"
   ]
  },
  {
   "cell_type": "code",
   "execution_count": null,
   "metadata": {},
   "outputs": [],
   "source": [
    "#columnas.to_csv(\"Columnas_modelo_continuo_timeminutes.csv\")"
   ]
  },
  {
   "cell_type": "code",
   "execution_count": null,
   "metadata": {},
   "outputs": [],
   "source": [
    "clf.best_estimator_.coef_"
   ]
  },
  {
   "cell_type": "code",
   "execution_count": null,
   "metadata": {},
   "outputs": [],
   "source": [
    "clf.best_estimator_.score(X, y)### subio a 0.21007397052815446"
   ]
  },
  {
   "cell_type": "markdown",
   "metadata": {},
   "source": [
    "# Modelo a partir de variables de Texto- descartado pero tiene cosas útiles"
   ]
  },
  {
   "cell_type": "code",
   "execution_count": null,
   "metadata": {},
   "outputs": [],
   "source": [
    "def clean_text(text, pattern=\"[^a-zA-Z0-9 ]\"):\n",
    "    cleaned_text = unicodedata.normalize('NFD', text).encode('ascii', 'ignore')\n",
    "    cleaned_text = re.sub(pattern, \" \", cleaned_text.decode(\"utf-8\"), flags=re.UNICODE)\n",
    "    cleaned_text = u' '.join(cleaned_text.lower().split())\n",
    "    return cleaned_text\n",
    "###############################################\n",
    "def lemmatize_text(text):\n",
    "    return [lemmatizer.lemmatize(w,\"v\") for w in w_tokenizer.tokenize(text) if not w.isdigit()]\n",
    "def token_join(tokens):\n",
    "    s=\" \"\n",
    "    return s.join(tokens)"
   ]
  },
  {
   "cell_type": "code",
   "execution_count": null,
   "metadata": {},
   "outputs": [],
   "source": [
    "df=pd.read_csv(\"US_Accidents_June20.csv\")"
   ]
  },
  {
   "cell_type": "code",
   "execution_count": null,
   "metadata": {},
   "outputs": [],
   "source": [
    "df=df[df[\"Source\"]==\"MapQuest\"][[\"Severity\",\"Description\"]].sample(frac=.7,random_state=1)"
   ]
  },
  {
   "cell_type": "code",
   "execution_count": null,
   "metadata": {},
   "outputs": [],
   "source": [
    "df=df.dropna()\n",
    "df=df.reset_index(drop=True)"
   ]
  },
  {
   "cell_type": "code",
   "execution_count": null,
   "metadata": {},
   "outputs": [],
   "source": [
    "w_tokenizer = nltk.tokenize.WhitespaceTokenizer()\n",
    "lemmatizer = nltk.stem.WordNetLemmatizer()"
   ]
  },
  {
   "cell_type": "code",
   "execution_count": null,
   "metadata": {},
   "outputs": [],
   "source": [
    "df[\"Description_clean\"]=df[\"Description\"].apply(clean_text)\n",
    "df[\"Description_clean2\"]=df[\"Description_clean\"].apply(lemmatize_text)\n",
    "df[\"Description_clean2\"]=df[\"Description_clean2\"].apply(token_join)"
   ]
  },
  {
   "cell_type": "code",
   "execution_count": null,
   "metadata": {},
   "outputs": [],
   "source": [
    "df[\"len_text_raw\"] = df[\"Description\"].str.len()\n",
    "df[\"n_dots\"] = df[\"Description\"].str.split(\".\").str.len() - 1\n",
    "df[\"n_lower_ratio_len\"] = df[\"Description\"].map(lambda x:sum(map(str.islower, x))) / df[\"len_text_raw\"]\n",
    "df[\"n_upper_ratio_len\"] = df[\"Description\"].map(lambda x:sum(map(str.isupper, x))) / df[\"len_text_raw\"]\n",
    "df[\"n_words\"] = df[\"Description\"].str.split(\" \").str.len()\n",
    "df[\"n_letters\"] = df[\"Description\"].map(lambda x:sum(map(str.isalpha, x)))\n",
    "df[\"n_lower_ratio_letters\"] = df[\"Description\"].map(lambda x:sum(map(str.islower, x))) / df[\"n_letters\"]\n",
    "df[\"n_upper_ratio_letters\"] = df[\"Description\"].map(lambda x:sum(map(str.isupper, x))) / df[\"n_letters\"]\n",
    "df[\"n_digit_ratio_letters\"] = df[\"Description\"].map(lambda x:sum(map(str.isdigit, x))) / df[\"n_letters\"]"
   ]
  },
  {
   "cell_type": "code",
   "execution_count": null,
   "metadata": {},
   "outputs": [],
   "source": [
    "stop_words=stopwords.words('english')"
   ]
  },
  {
   "cell_type": "code",
   "execution_count": null,
   "metadata": {},
   "outputs": [],
   "source": [
    "df.head()"
   ]
  },
  {
   "cell_type": "code",
   "execution_count": null,
   "metadata": {},
   "outputs": [],
   "source": [
    "#cv = TfidfVectorizer(stop_words=stop_words, ngram_range=(1, 1), min_df=1, max_features=100)\n",
    "cv=CountVectorizer(stop_words=stop_words,ngram_range=(1, 1),min_df=8,max_features=70)"
   ]
  },
  {
   "cell_type": "code",
   "execution_count": null,
   "metadata": {},
   "outputs": [],
   "source": [
    "cv.fit(df[\"Description_clean2\"])"
   ]
  },
  {
   "cell_type": "code",
   "execution_count": null,
   "metadata": {},
   "outputs": [],
   "source": [
    "ls_features = [\"len_text_raw\", \"n_dots\", \"n_lower_ratio_len\", \"n_upper_ratio_len\", \"n_words\", \"n_letters\", \"n_lower_ratio_letters\", \"n_upper_ratio_letters\"]"
   ]
  },
  {
   "cell_type": "code",
   "execution_count": null,
   "metadata": {},
   "outputs": [],
   "source": [
    "X = df[ls_features].fillna(0).join(pd.DataFrame(data = cv.transform(df[[\"Description_clean2\"]]).todense(), columns = cv.get_feature_names()))\n",
    "y = df[\"Severity\"]"
   ]
  },
  {
   "cell_type": "code",
   "execution_count": null,
   "metadata": {},
   "outputs": [],
   "source": [
    "#del X,y\n",
    "X.fillna(0,inplace=True)"
   ]
  },
  {
   "cell_type": "code",
   "execution_count": null,
   "metadata": {},
   "outputs": [],
   "source": [
    "X.describe()"
   ]
  },
  {
   "cell_type": "code",
   "execution_count": null,
   "metadata": {},
   "outputs": [],
   "source": [
    "kb=SelectKBest(k=8,score_func=f_classif)"
   ]
  },
  {
   "cell_type": "code",
   "execution_count": null,
   "metadata": {},
   "outputs": [],
   "source": [
    "kb.fit(X,y)"
   ]
  },
  {
   "cell_type": "code",
   "execution_count": null,
   "metadata": {},
   "outputs": [],
   "source": [
    "ls_best=[x for x,y in  zip(X.columns,kb.get_support()) if y]"
   ]
  },
  {
   "cell_type": "code",
   "execution_count": null,
   "metadata": {},
   "outputs": [],
   "source": [
    "X=X[ls_best]\n",
    "#del df"
   ]
  },
  {
   "cell_type": "code",
   "execution_count": null,
   "metadata": {},
   "outputs": [],
   "source": [
    "X_train, X_test, y_train, y_test = train_test_split(X, y)"
   ]
  },
  {
   "cell_type": "code",
   "execution_count": null,
   "metadata": {},
   "outputs": [],
   "source": [
    "nb = MultinomialNB()\n",
    "nb.fit(X_train, y_train.ravel())"
   ]
  },
  {
   "cell_type": "code",
   "execution_count": null,
   "metadata": {},
   "outputs": [],
   "source": [
    "nb.score(X_train, y_train.ravel())"
   ]
  },
  {
   "cell_type": "code",
   "execution_count": null,
   "metadata": {},
   "outputs": [],
   "source": [
    "ls_scores = cross_val_score(X=X_train, y=y_train, cv=4, n_jobs=-1, estimator=nb, scoring=\"accuracy\")"
   ]
  },
  {
   "cell_type": "code",
   "execution_count": null,
   "metadata": {},
   "outputs": [],
   "source": [
    "np.mean(ls_scores), np.std(ls_scores)"
   ]
  },
  {
   "cell_type": "code",
   "execution_count": null,
   "metadata": {},
   "outputs": [],
   "source": [
    "confusion_matrix(y_true=y_test, y_pred=nb.predict(X_test))"
   ]
  },
  {
   "cell_type": "code",
   "execution_count": null,
   "metadata": {},
   "outputs": [],
   "source": [
    "nb.coef_[0]"
   ]
  },
  {
   "cell_type": "code",
   "execution_count": null,
   "metadata": {},
   "outputs": [],
   "source": [
    "nb.score"
   ]
  },
  {
   "cell_type": "markdown",
   "metadata": {},
   "source": [
    "# Crédit Scoring"
   ]
  },
  {
   "cell_type": "code",
   "execution_count": null,
   "metadata": {},
   "outputs": [],
   "source": [
    "def IV(df, var, tgt):\n",
    "    aux = df[[var, tgt]].groupby(var).agg([\"count\", \"sum\"])\n",
    "    aux[\"evento\"] = aux[tgt, \"sum\"]\n",
    "    aux[\"no_evento\"] = aux[tgt, \"count\"] - aux[tgt, \"sum\"]\n",
    "    aux[\"%evento\"] = aux[\"evento\"] / aux[\"evento\"].sum()\n",
    "    aux[\"%no_evento\"] = aux[\"no_evento\"] / aux[\"no_evento\"].sum()\n",
    "    aux[\"WOE\"] = np.log(aux[\"%no_evento\"] / aux[\"%evento\"])\n",
    "    aux[\"IV\"] = (aux[\"%no_evento\"] - aux[\"%evento\"])*aux[\"WOE\"]\n",
    "    return aux[\"IV\"].sum()\n",
    "###############################################\n",
    "def WOE(df, var, tgt):\n",
    "    aux = df[[var, tgt]].groupby(var).agg([\"count\", \"sum\"])\n",
    "    aux[\"evento\"] = aux[tgt, \"sum\"]\n",
    "    aux[\"no_evento\"] = aux[tgt, \"count\"] - aux[tgt, \"sum\"]\n",
    "    aux[\"%evento\"] = aux[\"evento\"] / aux[\"evento\"].sum()\n",
    "    aux[\"%no_evento\"] = aux[\"no_evento\"] / aux[\"no_evento\"].sum()\n",
    "    aux[\"WOE\"] = np.log(aux[\"%no_evento\"] / aux[\"%evento\"])\n",
    "    aux.columns = aux.columns.droplevel(1)\n",
    "    aux = aux[[\"WOE\"]].reset_index().rename(columns={\"WOE\": f\"W_{var}\"})\n",
    "    df = df.merge(aux, on = var, how = \"left\")\n",
    "    return df"
   ]
  },
  {
   "cell_type": "code",
   "execution_count": null,
   "metadata": {},
   "outputs": [],
   "source": [
    "df=pd.read_pickle(\"Tabla_Proyecto_Limpia_forma1.pkl\")"
   ]
  },
  {
   "cell_type": "code",
   "execution_count": null,
   "metadata": {},
   "outputs": [],
   "source": [
    "df.columns"
   ]
  },
  {
   "cell_type": "code",
   "execution_count": null,
   "metadata": {},
   "outputs": [],
   "source": [
    "quitar=['TMC','Start_Time', 'End_Time', 'Description', 'Street','Side','City','County','Zipcode',\n",
    "          'Airport_Code','Temperature(F)_Escalado_KNN', 'Humidity(%)_Escalado_KNN', 'Pressure(in)_Escalado_KNN', 'Visibility(mi)_Escalado_KNN',\n",
    "       'Wind_Direction', 'Wind_Speed(mph)_Escalado_KNN', 'Weather_Condition','City_Freq','Weather', 'Temperature(F)_Escalado', 'Humidity(%)_Escalado',\n",
    "       'Pressure(in)_Escalado', 'Visibility(mi)_Escalado',\n",
    "       'Wind_Speed(mph)_Escalado','Day']"
   ]
  },
  {
   "cell_type": "code",
   "execution_count": null,
   "metadata": {},
   "outputs": [],
   "source": [
    "columnas=[x for x in df.columns if x not in quitar+['Year','County_Freq','State_Freq','Airport_Freq','TimeMinutes','Distance(mi)']]"
   ]
  },
  {
   "cell_type": "code",
   "execution_count": null,
   "metadata": {},
   "outputs": [],
   "source": [
    "df=df[columnas]"
   ]
  },
  {
   "cell_type": "code",
   "execution_count": null,
   "metadata": {},
   "outputs": [],
   "source": [
    "df[\"Amenity\"]=df[\"Amenity\"]*1\n",
    "df[\"Crossing\"]=df[\"Crossing\"]*1\n",
    "df[\"Junction\"]=df[\"Junction\"]*1\n",
    "df[\"Station\"]=df[\"Station\"]*1\n",
    "df[\"Stop\"]=df[\"Stop\"]*1\n",
    "df[\"Traffic_Signal\"]=df[\"Traffic_Signal\"]*1\n",
    "df[\"Hour\"]=df[\"Hour\"].astype(str)\n",
    "df[\"Side_moda\"]=(df[\"Side_moda\"]==\"R\")*1"
   ]
  },
  {
   "cell_type": "code",
   "execution_count": null,
   "metadata": {},
   "outputs": [],
   "source": [
    "df1=df[df[\"Source\"]==\"MapQuest\"].copy()\n",
    "df1=df1.reset_index(drop=True)"
   ]
  },
  {
   "cell_type": "code",
   "execution_count": null,
   "metadata": {},
   "outputs": [],
   "source": [
    "del df\n",
    "df1=df1.drop(columns=[\"Source\"])\n",
    "df1[\"Severity\"]=df1[\"Severity\"].replace({1:0,2:0,3:1,4:1})"
   ]
  },
  {
   "cell_type": "code",
   "execution_count": null,
   "metadata": {},
   "outputs": [],
   "source": [
    "df1.head()"
   ]
  },
  {
   "cell_type": "code",
   "execution_count": null,
   "metadata": {},
   "outputs": [],
   "source": [
    "tgt=[\"Severity\"]\n",
    "cont=[\"Start_Lat\",\"Start_Lng\",\"Temperature(F)\",\"Humidity(%)\",\"Pressure(in)\",\"Visibility(mi)\",\n",
    "     \"Wind_Speed(mph)\",]\n",
    "cat=[\"State\",\"Timezone\",\"Hour\",\"Weekday\",\"Month\",\"Wind_Direction_moda\",\"Weather_moda\"]\n",
    "dicotomicas=[x for x in df1.columns if x not in tgt+cont+cat]"
   ]
  },
  {
   "cell_type": "code",
   "execution_count": null,
   "metadata": {},
   "outputs": [],
   "source": [
    "dicotomicas"
   ]
  },
  {
   "cell_type": "code",
   "execution_count": null,
   "metadata": {},
   "outputs": [],
   "source": [
    "df1.shape"
   ]
  },
  {
   "cell_type": "code",
   "execution_count": null,
   "metadata": {},
   "outputs": [],
   "source": [
    "df1=df1.dropna()\n",
    "df1=df1.reset_index(drop=True)"
   ]
  },
  {
   "cell_type": "code",
   "execution_count": null,
   "metadata": {},
   "outputs": [],
   "source": [
    "df1.shape"
   ]
  },
  {
   "cell_type": "code",
   "execution_count": null,
   "metadata": {},
   "outputs": [],
   "source": [
    "2019139/2028102"
   ]
  },
  {
   "cell_type": "code",
   "execution_count": null,
   "metadata": {},
   "outputs": [],
   "source": [
    "#treeDisc=DecisionTreeDiscretiser(cv=3,scoring='roc_auc',random_state=777)# regresa probabilidades\n",
    "discretizer = KBinsDiscretizer(n_bins=4, encode='ordinal', strategy='quantile')"
   ]
  },
  {
   "cell_type": "code",
   "execution_count": null,
   "metadata": {},
   "outputs": [],
   "source": [
    "X=discretizer.fit_transform(df1[cont],df1[tgt])"
   ]
  },
  {
   "cell_type": "code",
   "execution_count": null,
   "metadata": {},
   "outputs": [],
   "source": [
    "X=pd.DataFrame(X,columns=cont)"
   ]
  },
  {
   "cell_type": "code",
   "execution_count": null,
   "metadata": {},
   "outputs": [],
   "source": [
    "X=X.join(df1[dicotomicas+cat+tgt])"
   ]
  },
  {
   "cell_type": "code",
   "execution_count": null,
   "metadata": {},
   "outputs": [],
   "source": [
    "for col in X.columns:\n",
    "    display(X[col].value_counts(True).reset_index())"
   ]
  },
  {
   "cell_type": "code",
   "execution_count": null,
   "metadata": {},
   "outputs": [],
   "source": [
    "new_disc=['Start_Lat', 'Start_Lng', 'Temperature(F)', 'Humidity(%)',\n",
    "       'Pressure(in)', 'Visibility(mi)', 'Wind_Speed(mph)', 'Amenity',\n",
    "       'Crossing', 'Junction', 'Station', 'Stop', 'Traffic_Signal',\n",
    "       'Side_moda', 'State', 'Timezone', 'Hour', 'Weekday', 'Month',\n",
    "       'Wind_Direction_moda', 'Weather_moda']"
   ]
  },
  {
   "cell_type": "code",
   "execution_count": null,
   "metadata": {},
   "outputs": [],
   "source": [
    "df_iv = pd.DataFrame(columns=[\"iv\"])\n",
    "for var in new_disc:\n",
    "    df_iv.loc[var, \"iv\"] = IV(df = X, var = var, tgt = \"Severity\")"
   ]
  },
  {
   "cell_type": "code",
   "execution_count": null,
   "metadata": {},
   "outputs": [],
   "source": [
    "df_iv.sort_values(by = \"iv\", ascending = False)"
   ]
  },
  {
   "cell_type": "code",
   "execution_count": null,
   "metadata": {},
   "outputs": [],
   "source": [
    "ls_best = df_iv[df_iv[\"iv\"] != np.inf].sort_values(by = \"iv\", ascending=False).head(13).index"
   ]
  },
  {
   "cell_type": "code",
   "execution_count": null,
   "metadata": {},
   "outputs": [],
   "source": [
    "for var in ls_best:\n",
    "    X = WOE(df = X, var = var, tgt = \"Severity\")"
   ]
  },
  {
   "cell_type": "code",
   "execution_count": null,
   "metadata": {},
   "outputs": [],
   "source": [
    "ls_woe = [x for x in X.columns if x.startswith(\"W_\")]"
   ]
  },
  {
   "cell_type": "code",
   "execution_count": null,
   "metadata": {},
   "outputs": [],
   "source": [
    "ls_woe"
   ]
  },
  {
   "cell_type": "code",
   "execution_count": null,
   "metadata": {},
   "outputs": [],
   "source": [
    "del df1\n",
    "Z=X[ls_woe]\n",
    "y=X[tgt]"
   ]
  },
  {
   "cell_type": "code",
   "execution_count": null,
   "metadata": {},
   "outputs": [],
   "source": [
    "Z.isnull().sum()"
   ]
  },
  {
   "cell_type": "markdown",
   "metadata": {},
   "source": [
    "## Traintestsplit"
   ]
  },
  {
   "cell_type": "code",
   "execution_count": null,
   "metadata": {},
   "outputs": [],
   "source": [
    "X_train, X_test, y_train, y_test = train_test_split(Z, y,random_state=777)"
   ]
  },
  {
   "cell_type": "code",
   "execution_count": null,
   "metadata": {},
   "outputs": [],
   "source": [
    "logreg = LogisticRegression()"
   ]
  },
  {
   "cell_type": "code",
   "execution_count": null,
   "metadata": {},
   "outputs": [],
   "source": [
    "logreg.fit(X_train, y_train.values.ravel())"
   ]
  },
  {
   "cell_type": "code",
   "execution_count": null,
   "metadata": {},
   "outputs": [],
   "source": [
    "logreg.score(X_train, y_train)"
   ]
  },
  {
   "cell_type": "code",
   "execution_count": null,
   "metadata": {},
   "outputs": [],
   "source": [
    "ls_scores = cross_val_score(X=X_train, y=y_train, cv = 4, estimator=logreg, scoring=\"roc_auc\")"
   ]
  },
  {
   "cell_type": "code",
   "execution_count": null,
   "metadata": {},
   "outputs": [],
   "source": [
    "np.mean(ls_scores), np.std(ls_scores)"
   ]
  },
  {
   "cell_type": "code",
   "execution_count": null,
   "metadata": {},
   "outputs": [],
   "source": [
    "roc_auc_score(y_score=logreg.predict(X_test), y_true=y_test)## score 0.6786631923530955"
   ]
  },
  {
   "cell_type": "code",
   "execution_count": null,
   "metadata": {},
   "outputs": [],
   "source": [
    "variables_usadas_en_los_modelos=['Side_moda', 'Traffic_Signal', 'State', 'Crossing', 'Weekday',\n",
    "       'Junction', 'Stop', 'Hour', 'Timezone', 'Amenity', 'Station',\n",
    "       'Start_Lng', 'Weather_moda']"
   ]
  },
  {
   "cell_type": "code",
   "execution_count": null,
   "metadata": {},
   "outputs": [],
   "source": [
    "modelo=LogisticRegression()"
   ]
  },
  {
   "cell_type": "code",
   "execution_count": null,
   "metadata": {},
   "outputs": [],
   "source": [
    "param_grid = {\"penalty\" : ['l1', 'l2', 'elasticnet'],\n",
    "    \"tol\": [0.00001, 0.0000001,0.0000000001, 0.01],\n",
    "    \"solver\" : [ 'liblinear', 'saga'],\n",
    "     \"C\":[x/100 for x in range(0, 101,5)] }"
   ]
  },
  {
   "cell_type": "code",
   "execution_count": null,
   "metadata": {},
   "outputs": [],
   "source": [
    "%%time\n",
    "clf = RandomizedSearchCV(n_iter=20, estimator=modelo, param_distributions=param_grid, cv=4, error_score=-1000, n_jobs=-1, scoring=\"roc_auc\", verbose=5)\n",
    "clf.fit(X_train, y_train)\n",
    "print(\"Best score: \" + str(clf.best_score_))"
   ]
  },
  {
   "cell_type": "code",
   "execution_count": null,
   "metadata": {},
   "outputs": [],
   "source": [
    "clf.best_estimator_.get_params"
   ]
  },
  {
   "cell_type": "code",
   "execution_count": null,
   "metadata": {},
   "outputs": [],
   "source": [
    "roc_auc_score(y_score=clf.best_estimator_.predict(X_test), y_true=y_test)#0.6786394394134154"
   ]
  },
  {
   "cell_type": "code",
   "execution_count": null,
   "metadata": {},
   "outputs": [],
   "source": [
    "#pd.to_pickle(clf.best_estimator_,\"credit_scoring.pkl\")\n",
    "cs=pd.read_pickle(\"credit_scoring.pkl\")"
   ]
  },
  {
   "cell_type": "code",
   "execution_count": null,
   "metadata": {},
   "outputs": [],
   "source": [
    "pdo = 8\n",
    "base_score = 140\n",
    "base_odds = 100\n",
    "factor = pdo/np.log(2)\n",
    "offset = base_score - (factor*np.log(base_odds))\n",
    "m = len(ls_woe)"
   ]
  },
  {
   "cell_type": "code",
   "execution_count": null,
   "metadata": {},
   "outputs": [],
   "source": [
    "alpha = cs.intercept_\n",
    "betas = cs.coef_[0]"
   ]
  },
  {
   "cell_type": "code",
   "execution_count": null,
   "metadata": {},
   "outputs": [],
   "source": [
    "del Z,y,X_train,X_test,y_train,y_test"
   ]
  },
  {
   "cell_type": "code",
   "execution_count": null,
   "metadata": {},
   "outputs": [],
   "source": [
    "for feat, beta in zip(ls_woe, betas):\n",
    "    X[\"P_\" + feat[2:]] = X[feat].apply(lambda x:((-beta*x + (alpha/m))*factor) + (offset/m)).astype(int)"
   ]
  },
  {
   "cell_type": "code",
   "execution_count": null,
   "metadata": {},
   "outputs": [],
   "source": [
    "X[\"score\"] = X[[x for x in X.columns if x.startswith(\"P_\")]].sum(axis = 1)"
   ]
  },
  {
   "cell_type": "code",
   "execution_count": null,
   "metadata": {},
   "outputs": [],
   "source": [
    "test=X[[\"score\",\"Severity\"]].groupby(by=\"score\").agg(\"count\")"
   ]
  },
  {
   "cell_type": "code",
   "execution_count": null,
   "metadata": {},
   "outputs": [],
   "source": [
    "test.iplot(kind='bar',title='Frecuencia en Scores',color=['red'],\n",
    "                            theme='white',yTitle='Frecuencia',xTitle='Score')"
   ]
  },
  {
   "cell_type": "code",
   "execution_count": null,
   "metadata": {},
   "outputs": [],
   "source": [
    "def plot_histogram(data, n_bins = 10):\n",
    "    freq, bins = np.histogram(data, bins=n_bins)\n",
    "    hist = pygal.Histogram()\n",
    "    hist.add('Wide bars', list(zip(freq, bins, bins[1:])))\n",
    "    return hist"
   ]
  },
  {
   "cell_type": "code",
   "execution_count": null,
   "metadata": {},
   "outputs": [],
   "source": [
    "plot_histogram(X[\"score\"])"
   ]
  },
  {
   "cell_type": "code",
   "execution_count": null,
   "metadata": {},
   "outputs": [],
   "source": [
    "X['score'].min()## 29"
   ]
  },
  {
   "cell_type": "code",
   "execution_count": null,
   "metadata": {},
   "outputs": [],
   "source": [
    "X['score'].max()## 178"
   ]
  },
  {
   "cell_type": "code",
   "execution_count": null,
   "metadata": {},
   "outputs": [],
   "source": [
    "ls_best_raw = [x[2:] for x in ls_best]"
   ]
  },
  {
   "cell_type": "code",
   "execution_count": null,
   "metadata": {},
   "outputs": [],
   "source": [
    "for var in ls_best:\n",
    "    display(X[[var, \"P_\" + var]].groupby(var).last())"
   ]
  },
  {
   "cell_type": "code",
   "execution_count": null,
   "metadata": {},
   "outputs": [],
   "source": [
    "Side_moda=X[['Side_moda', \"P_\" + 'Side_moda']].groupby('Side_moda').last()\n",
    "Traffic_Signal=X[['Traffic_Signal', \"P_\" + 'Traffic_Signal']].groupby('Traffic_Signal').last()\n",
    "State=X[['State', \"P_\" + 'State']].groupby('State').last()\n",
    "Crossing=X[['Crossing', \"P_\" + 'Crossing']].groupby('Crossing').last()\n",
    "Weekday=X[['Weekday', \"P_\" + 'Weekday']].groupby('Weekday').last()\n",
    "Junction=X[['Junction', \"P_\" + 'Junction']].groupby('Junction').last()\n",
    "Stop=X[['Stop', \"P_\" + 'Stop']].groupby('Stop').last()\n",
    "Hour=X[['Hour', \"P_\" + 'Hour']].groupby('Hour').last()\n",
    "Timezone=X[['Timezone', \"P_\" + 'Timezone']].groupby('Timezone').last()\n",
    "Amenity=X[['Amenity', \"P_\" + 'Amenity']].groupby('Amenity').last()\n",
    "Station=X[['Station', \"P_\" + 'Station']].groupby('Station').last()\n",
    "Start_Lng=X[['Start_Lng', \"P_\" + 'Start_Lng']].groupby('Start_Lng').last()\n",
    "Weather_moda=X[['Weather_moda', \"P_\" + 'Weather_moda']].groupby('Weather_moda').last()"
   ]
  },
  {
   "cell_type": "code",
   "execution_count": null,
   "metadata": {},
   "outputs": [],
   "source": [
    "Z=X[ls_best].copy()\n",
    "Z[\"Severity\"]=X[\"Severity\"].copy()"
   ]
  },
  {
   "cell_type": "code",
   "execution_count": null,
   "metadata": {},
   "outputs": [],
   "source": [
    "Z = Z.merge(Side_moda,on=['Side_moda'],how='left')\n",
    "Z = Z.merge(Traffic_Signal,on=['Traffic_Signal'],how='left')\n",
    "Z = Z.merge(State,on=['State'],how='left')\n",
    "Z = Z.merge(Crossing,on=['Crossing'],how='left')\n",
    "Z = Z.merge(Weekday,on=['Weekday'],how='left')\n",
    "Z = Z.merge(Junction,on=['Junction'],how='left')\n",
    "Z = Z.merge(Stop,on=['Stop'],how='left')\n",
    "Z = Z.merge(Hour,on=['Hour'],how='left')\n",
    "Z = Z.merge(Timezone,on=['Timezone'],how='left')\n",
    "Z = Z.merge(Amenity,on=['Amenity'],how='left')\n",
    "Z = Z.merge(Station,on=['Station'],how='left')\n",
    "Z = Z.merge(Start_Lng,on=['Start_Lng'],how='left')\n",
    "Z = Z.merge(Weather_moda,on=['Weather_moda'],how='left')"
   ]
  },
  {
   "cell_type": "code",
   "execution_count": null,
   "metadata": {},
   "outputs": [],
   "source": [
    "score=[x for x in Z.columns if x.startswith(\"P_\")]"
   ]
  },
  {
   "cell_type": "code",
   "execution_count": null,
   "metadata": {},
   "outputs": [],
   "source": [
    "Z[\"score\"]=Z[score].sum(axis = 1)"
   ]
  },
  {
   "cell_type": "code",
   "execution_count": null,
   "metadata": {},
   "outputs": [],
   "source": [
    "aux={}\n",
    "for i in range(29,178):\n",
    "        Z[\"ROC\"]=Z[\"score\"].map(lambda x: 1 if x < i  else 0) \n",
    "        aux[str(i)]={f\"ROC\":roc_auc_score(y_score=Z[\"ROC\"], y_true=Z[\"Severity\"])}"
   ]
  },
  {
   "cell_type": "code",
   "execution_count": null,
   "metadata": {},
   "outputs": [],
   "source": [
    "aux## corte 71"
   ]
  },
  {
   "cell_type": "code",
   "execution_count": null,
   "metadata": {},
   "outputs": [],
   "source": [
    "severidad=X['Severity'].value_counts(1)\n",
    "severidad.iplot(kind='bar',color=['red'],theme='white')"
   ]
  },
  {
   "cell_type": "markdown",
   "metadata": {},
   "source": [
    "# Tree regresor"
   ]
  },
  {
   "cell_type": "code",
   "execution_count": 1,
   "metadata": {},
   "outputs": [],
   "source": [
    "import numpy as np\n",
    "import pandas as pd\n",
    "import pydotplus\n",
    "from sklearn.tree import _tree\n",
    "from IPython.display import Image \n",
    "from sklearn.externals.six import StringIO \n",
    "from sklearn.metrics import r2_score, confusion_matrix\n",
    "from sklearn.tree import DecisionTreeClassifier, export_graphviz,DecisionTreeRegressor\n",
    "from sklearn.model_selection import RandomizedSearchCV, GridSearchCV\n",
    "from sklearn.model_selection import cross_val_score, train_test_split\n",
    "pd.set_option('display.max_columns',300)\n",
    "pd.set_option('display.max_rows',300)"
   ]
  },
  {
   "cell_type": "code",
   "execution_count": 2,
   "metadata": {},
   "outputs": [],
   "source": [
    "def tree_to_code(tree, feature_names):\n",
    "    tree_ = tree.tree_\n",
    "    feature_name = [\n",
    "        feature_names[i] if i != _tree.TREE_UNDEFINED else \"undefined!\"\n",
    "        for i in tree_.feature\n",
    "    ]\n",
    "    features = ','.join(feature_names)\n",
    "    print(f\"def tree({features}):\")\n",
    "\n",
    "    def recurse(node, depth):\n",
    "        indent = \"  \" * depth\n",
    "        if tree_.feature[node] != _tree.TREE_UNDEFINED:\n",
    "            name = feature_name[node]\n",
    "            threshold = tree_.threshold[node]\n",
    "            print(f\"{indent}if {name} <= {threshold}:\")\n",
    "            recurse(tree_.children_left[node], depth + 1)\n",
    "            print(f\"{indent}else:  # if {name} > {threshold}\")\n",
    "            recurse(tree_.children_right[node], depth + 1)\n",
    "        else:\n",
    "            print(f\"{indent}return {tree_.value[node]}\".format(indent, tree_.value[node]))\n",
    "\n",
    "    recurse(0, 1)\n",
    "#####################\n",
    "def classification_metrics(X, y, estimator):\n",
    "    ls_scores_roc = cross_val_score(estimator=estimator, X=X, y=y, scoring=\"roc_auc\", n_jobs=-1, cv=4)\n",
    "    print(f\"ROC media: {np.mean(ls_scores_roc):,.2f}, desviación estándar: {np.std(ls_scores_roc)}\")"
   ]
  },
  {
   "cell_type": "code",
   "execution_count": null,
   "metadata": {},
   "outputs": [],
   "source": [
    "df=pd.read_pickle(\"Tabla_Proyecto_Limpia_forma1.pkl\")"
   ]
  },
  {
   "cell_type": "code",
   "execution_count": null,
   "metadata": {},
   "outputs": [],
   "source": [
    "quitar=['TMC','Start_Time', 'End_Time', 'Description', 'Street','Side','City','County','Zipcode',\n",
    "          'Airport_Code','Temperature(F)', 'Humidity(%)', 'Pressure(in)'\n",
    "        , 'Visibility(mi)', 'Wind_Speed(mph)',\n",
    "       'Wind_Direction', 'Weather_Condition','City_Freq','Weather', 'Temperature(F)_Escalado', 'Humidity(%)_Escalado',\n",
    "       'Pressure(in)_Escalado', 'Visibility(mi)_Escalado',\n",
    "       'Wind_Speed(mph)_Escalado','Day']"
   ]
  },
  {
   "cell_type": "code",
   "execution_count": null,
   "metadata": {},
   "outputs": [],
   "source": [
    "columnas=[x for x in df.columns if x not in quitar]"
   ]
  },
  {
   "cell_type": "code",
   "execution_count": null,
   "metadata": {},
   "outputs": [],
   "source": [
    "df=df[columnas]"
   ]
  },
  {
   "cell_type": "code",
   "execution_count": null,
   "metadata": {},
   "outputs": [],
   "source": [
    "df[\"Amenity\"]=df[\"Amenity\"]*1\n",
    "df[\"Crossing\"]=df[\"Crossing\"]*1\n",
    "df[\"Junction\"]=df[\"Junction\"]*1\n",
    "df[\"Station\"]=df[\"Station\"]*1\n",
    "df[\"Stop\"]=df[\"Stop\"]*1\n",
    "df[\"Traffic_Signal\"]=df[\"Traffic_Signal\"]*1\n",
    "df[\"Hour\"]=df[\"Hour\"].astype(str)\n",
    "df[\"Year\"]=df[\"Year\"].astype(str)\n",
    "df[\"Side_moda\"]=(df[\"Side_moda\"]==\"R\")*1\n",
    "df[\"Weekend\"]=df[\"Weekday\"].map(lambda x: 1 if x==\"Sat\" or x==\"Sun\" else 0)"
   ]
  },
  {
   "cell_type": "code",
   "execution_count": null,
   "metadata": {},
   "outputs": [],
   "source": [
    "df=df[df[\"Source\"]==\"MapQuest\"].copy()\n",
    "df=df.drop(columns=[\"Source\"])\n",
    "df=df.reset_index(drop=True)"
   ]
  },
  {
   "cell_type": "code",
   "execution_count": null,
   "metadata": {},
   "outputs": [],
   "source": [
    "df=df[df[\"TimeMinutes\"]<=df[\"TimeMinutes\"].quantile(.99)].copy()\n",
    "df=df.reset_index(drop=True)"
   ]
  },
  {
   "cell_type": "code",
   "execution_count": null,
   "metadata": {},
   "outputs": [],
   "source": [
    "df1=df.sample(frac=.6,random_state=1)"
   ]
  },
  {
   "cell_type": "code",
   "execution_count": null,
   "metadata": {},
   "outputs": [],
   "source": [
    "del df"
   ]
  },
  {
   "cell_type": "code",
   "execution_count": null,
   "metadata": {},
   "outputs": [],
   "source": [
    "cat=[\"State\",\"Timezone\",\"Hour\",\"Weekend\",\n",
    "     \"Month\",\"Side_moda\",\"Wind_Direction_moda\",\"Weather_moda\"]#,\"cut_Temperature(F)\",\"cut_Humidity(%)\",\"cut_Pressure(in)\",\"cut_Visibility(mi)\",\"cut_Wind_Speed(mph)\"\n",
    "cont=[x for x in df1.columns if x not in cat+[\"Severity\",\"Source\",\"Distance(mi)\",\"Weekday\",\n",
    "                                            \"Year\",\"TimeMinutes\"]]#+cortes"
   ]
  },
  {
   "cell_type": "code",
   "execution_count": null,
   "metadata": {},
   "outputs": [],
   "source": [
    "aux=pd.read_csv(\"AUX_edos_USA.csv\")\n",
    "aux[\"poblacion\"]=aux[\"poblacion\"].replace({'601 723':601723,'1 852 994':1852994})\n",
    "aux[\"poblacion\"]=aux[\"poblacion\"].astype(int)"
   ]
  },
  {
   "cell_type": "code",
   "execution_count": null,
   "metadata": {},
   "outputs": [],
   "source": [
    "df1.shape"
   ]
  },
  {
   "cell_type": "code",
   "execution_count": null,
   "metadata": {},
   "outputs": [],
   "source": [
    "df1=df1.merge(aux, left_on='State', right_on='acrónimo',how='left')\n",
    "df1=df1.drop(columns=['estado', 'acrónimo'])"
   ]
  },
  {
   "cell_type": "code",
   "execution_count": null,
   "metadata": {},
   "outputs": [],
   "source": [
    "df1.shape"
   ]
  },
  {
   "cell_type": "code",
   "execution_count": null,
   "metadata": {},
   "outputs": [],
   "source": [
    "cont2=[x for x in df1.columns if x not in cat+[\"Severity\",\"Source\",\"Distance(mi)\",\"Weekday\",\n",
    "                                            \"Year\",\"TimeMinutes\"]]"
   ]
  },
  {
   "cell_type": "code",
   "execution_count": null,
   "metadata": {},
   "outputs": [],
   "source": [
    "X = df1[cont2].join(pd.get_dummies(df1[cat]))\n",
    "y = df1[[\"TimeMinutes\"]]#Distance(mi)"
   ]
  },
  {
   "cell_type": "code",
   "execution_count": null,
   "metadata": {},
   "outputs": [],
   "source": [
    "del df1,aux"
   ]
  },
  {
   "cell_type": "code",
   "execution_count": null,
   "metadata": {},
   "outputs": [],
   "source": [
    "X.shape"
   ]
  },
  {
   "cell_type": "markdown",
   "metadata": {},
   "source": [
    "# kbest # no los use"
   ]
  },
  {
   "cell_type": "code",
   "execution_count": null,
   "metadata": {},
   "outputs": [],
   "source": [
    "kb=SelectKBest(score_func=f_regression, k=70)"
   ]
  },
  {
   "cell_type": "code",
   "execution_count": null,
   "metadata": {},
   "outputs": [],
   "source": [
    "kb.fit(X,y)"
   ]
  },
  {
   "cell_type": "code",
   "execution_count": null,
   "metadata": {},
   "outputs": [],
   "source": [
    "ls_best= [x for x, y in zip(X.columns, kb.get_support()) if y]"
   ]
  },
  {
   "cell_type": "code",
   "execution_count": null,
   "metadata": {},
   "outputs": [],
   "source": [
    "ls_best"
   ]
  },
  {
   "cell_type": "code",
   "execution_count": null,
   "metadata": {},
   "outputs": [],
   "source": [
    "X=X[ls_best]"
   ]
  },
  {
   "cell_type": "markdown",
   "metadata": {},
   "source": [
    "# modelo"
   ]
  },
  {
   "cell_type": "code",
   "execution_count": null,
   "metadata": {},
   "outputs": [],
   "source": [
    "X_train, X_test, y_train, y_test = train_test_split(X, y,random_state=1)"
   ]
  },
  {
   "cell_type": "code",
   "execution_count": null,
   "metadata": {},
   "outputs": [],
   "source": [
    "del X,y"
   ]
  },
  {
   "cell_type": "code",
   "execution_count": null,
   "metadata": {},
   "outputs": [],
   "source": [
    "#test=X_test.head(1)\n",
    "#test.to_csv(\"columnas_arbol_regresivo.csv\")"
   ]
  },
  {
   "cell_type": "code",
   "execution_count": null,
   "metadata": {},
   "outputs": [],
   "source": [
    "DecisionTreeRegressor?"
   ]
  },
  {
   "cell_type": "code",
   "execution_count": null,
   "metadata": {},
   "outputs": [],
   "source": [
    "%%time\n",
    "model = DecisionTreeRegressor(max_depth=15)\n",
    "model.fit(X_train, y_train)"
   ]
  },
  {
   "cell_type": "code",
   "execution_count": null,
   "metadata": {},
   "outputs": [],
   "source": [
    "model.score(X_train, y_train)"
   ]
  },
  {
   "cell_type": "code",
   "execution_count": null,
   "metadata": {},
   "outputs": [],
   "source": [
    "model.score(X_test, y_test)"
   ]
  },
  {
   "cell_type": "code",
   "execution_count": null,
   "metadata": {},
   "outputs": [],
   "source": [
    "param_dist = {\"max_depth\": range(10, 20),\n",
    "              \"max_features\": [\"auto\",\"sqrt\",\"log2\"],\n",
    "              \"splitter\": [\"best\",\"random\"]}"
   ]
  },
  {
   "cell_type": "code",
   "execution_count": null,
   "metadata": {},
   "outputs": [],
   "source": [
    "RandomizedSearchCV?"
   ]
  },
  {
   "cell_type": "code",
   "execution_count": null,
   "metadata": {},
   "outputs": [],
   "source": [
    "%%time\n",
    "model = DecisionTreeRegressor()\n",
    "search = RandomizedSearchCV(param_distributions=param_dist, cv=4, n_jobs=-1, scoring=\"r2\", estimator=model, verbose=5,n_iter=20)"
   ]
  },
  {
   "cell_type": "code",
   "execution_count": null,
   "metadata": {},
   "outputs": [],
   "source": [
    "search.fit(X_train, y_train)"
   ]
  },
  {
   "cell_type": "code",
   "execution_count": null,
   "metadata": {},
   "outputs": [],
   "source": [
    "search.best_score_"
   ]
  },
  {
   "cell_type": "code",
   "execution_count": null,
   "metadata": {},
   "outputs": [],
   "source": [
    "search.best_estimator_"
   ]
  },
  {
   "cell_type": "code",
   "execution_count": null,
   "metadata": {},
   "outputs": [],
   "source": [
    "r2_score(y_pred=search.best_estimator_.predict(X_test), y_true=y_test)"
   ]
  },
  {
   "cell_type": "code",
   "execution_count": null,
   "metadata": {},
   "outputs": [],
   "source": [
    "#pd.to_pickle(search.best_estimator_,\"arbol_regresivo.pkl\")\n",
    "modelo1=pd.read_pickle(\"arbol_regresivo.pkl\")# score .29"
   ]
  },
  {
   "cell_type": "code",
   "execution_count": null,
   "metadata": {},
   "outputs": [],
   "source": [
    "r2_score(y_pred=modelo1.predict(X_test), y_true=y_test)"
   ]
  },
  {
   "cell_type": "code",
   "execution_count": null,
   "metadata": {},
   "outputs": [],
   "source": [
    "list(zip(X_test.columns,modelo1.feature_importances_))"
   ]
  },
  {
   "cell_type": "code",
   "execution_count": null,
   "metadata": {},
   "outputs": [],
   "source": [
    "dot_data = StringIO()\n",
    "export_graphviz(modelo1, out_file=dot_data, feature_names=X_train.columns,\n",
    "                filled=True, rounded=True,\n",
    "                special_characters=True)\n",
    "graph = pydotplus.graph_from_dot_data(dot_data.getvalue())  \n",
    "Image(graph.create_png())"
   ]
  },
  {
   "cell_type": "code",
   "execution_count": null,
   "metadata": {},
   "outputs": [],
   "source": [
    "tree_to_code(modelo1,feature_names=X_train.columns)"
   ]
  },
  {
   "cell_type": "markdown",
   "metadata": {},
   "source": [
    "# Tree Classifier"
   ]
  },
  {
   "cell_type": "code",
   "execution_count": 3,
   "metadata": {},
   "outputs": [],
   "source": [
    "df=pd.read_pickle(\"Tabla_Proyecto_Limpia_forma1.pkl\")"
   ]
  },
  {
   "cell_type": "code",
   "execution_count": 4,
   "metadata": {},
   "outputs": [],
   "source": [
    "quitar=['TMC','Start_Time', 'End_Time', 'Description', 'Street','Side','City','County','Zipcode',\n",
    "          'Airport_Code','Temperature(F)', 'Humidity(%)', 'Pressure(in)'\n",
    "        , 'Visibility(mi)', 'Wind_Speed(mph)',\n",
    "       'Wind_Direction', 'Weather_Condition','City_Freq','Weather', 'Temperature(F)_Escalado', 'Humidity(%)_Escalado',\n",
    "       'Pressure(in)_Escalado', 'Visibility(mi)_Escalado',\n",
    "       'Wind_Speed(mph)_Escalado','Day']"
   ]
  },
  {
   "cell_type": "code",
   "execution_count": 5,
   "metadata": {},
   "outputs": [],
   "source": [
    "columnas=[x for x in df.columns if x not in quitar]"
   ]
  },
  {
   "cell_type": "code",
   "execution_count": 6,
   "metadata": {},
   "outputs": [],
   "source": [
    "df=df[columnas]"
   ]
  },
  {
   "cell_type": "code",
   "execution_count": 7,
   "metadata": {},
   "outputs": [],
   "source": [
    "df[\"Amenity\"]=df[\"Amenity\"]*1\n",
    "df[\"Crossing\"]=df[\"Crossing\"]*1\n",
    "df[\"Junction\"]=df[\"Junction\"]*1\n",
    "df[\"Station\"]=df[\"Station\"]*1\n",
    "df[\"Stop\"]=df[\"Stop\"]*1\n",
    "df[\"Traffic_Signal\"]=df[\"Traffic_Signal\"]*1\n",
    "df[\"Hour\"]=df[\"Hour\"].astype(str)\n",
    "df[\"Year\"]=df[\"Year\"].astype(str)\n",
    "df[\"Side_moda\"]=(df[\"Side_moda\"]==\"R\")*1\n",
    "df[\"Weekend\"]=df[\"Weekday\"].map(lambda x: 1 if x==\"Sat\" or x==\"Sun\" else 0)"
   ]
  },
  {
   "cell_type": "code",
   "execution_count": 8,
   "metadata": {},
   "outputs": [],
   "source": [
    "df=df[df[\"Source\"]==\"MapQuest\"].copy()\n",
    "df=df.drop(columns=[\"Source\"])\n",
    "df=df.reset_index(drop=True)"
   ]
  },
  {
   "cell_type": "code",
   "execution_count": 9,
   "metadata": {},
   "outputs": [],
   "source": [
    "df=df[df[\"TimeMinutes\"]<=df[\"TimeMinutes\"].quantile(.99)].copy()\n",
    "df=df.reset_index(drop=True)"
   ]
  },
  {
   "cell_type": "code",
   "execution_count": 10,
   "metadata": {},
   "outputs": [],
   "source": [
    "dic={1:\"Poca severo\",2:\"Poca severo\",3:\"Muy severo\",4:\"Muy severo\"}\n",
    "df[\"target\"]=df[\"Severity\"].replace(dic)"
   ]
  },
  {
   "cell_type": "code",
   "execution_count": 11,
   "metadata": {},
   "outputs": [],
   "source": [
    "cat=[\"State\",\"Timezone\",\"Hour\",\"Weekend\",\n",
    "     \"Month\",\"Side_moda\",\"Wind_Direction_moda\",\"Weather_moda\"]\n",
    "cont=[x for x in df.columns if x not in cat+[\"Severity\",\"Source\",\"Distance(mi)\",\"Weekday\",\n",
    "                                            \"Year\",\"TimeMinutes\",\"target\"]]"
   ]
  },
  {
   "cell_type": "code",
   "execution_count": 12,
   "metadata": {},
   "outputs": [],
   "source": [
    "X = df[cont].join(pd.get_dummies(df[cat]))\n",
    "y = df[[\"target\"]]#target,Severity"
   ]
  },
  {
   "cell_type": "code",
   "execution_count": 13,
   "metadata": {},
   "outputs": [],
   "source": [
    "del df"
   ]
  },
  {
   "cell_type": "code",
   "execution_count": 14,
   "metadata": {},
   "outputs": [],
   "source": [
    "X_train, X_test, y_train, y_test = train_test_split(X, y,random_state=1)"
   ]
  },
  {
   "cell_type": "code",
   "execution_count": 15,
   "metadata": {},
   "outputs": [],
   "source": [
    "del X,y"
   ]
  },
  {
   "cell_type": "code",
   "execution_count": 17,
   "metadata": {},
   "outputs": [],
   "source": [
    "#test=X_test.head(1)\n",
    "#test.to_csv(\"columnas_arbol_clasificación.csv\")"
   ]
  },
  {
   "cell_type": "markdown",
   "metadata": {},
   "source": [
    "# Modelo"
   ]
  },
  {
   "cell_type": "code",
   "execution_count": null,
   "metadata": {},
   "outputs": [],
   "source": [
    "DecisionTreeClassifier?"
   ]
  },
  {
   "cell_type": "code",
   "execution_count": null,
   "metadata": {},
   "outputs": [],
   "source": [
    "%%time\n",
    "model=DecisionTreeClassifier(max_depth=15,class_weight=\"balanced\")\n",
    "model.fit(X_train,y_train)"
   ]
  },
  {
   "cell_type": "code",
   "execution_count": null,
   "metadata": {},
   "outputs": [],
   "source": [
    "model.score(X_train, y_train)"
   ]
  },
  {
   "cell_type": "code",
   "execution_count": null,
   "metadata": {},
   "outputs": [],
   "source": [
    "model.score(X_test, y_test)"
   ]
  },
  {
   "cell_type": "code",
   "execution_count": null,
   "metadata": {},
   "outputs": [],
   "source": [
    "confusion_matrix(y_pred=model.predict(X_test),y_true=y_test)"
   ]
  },
  {
   "cell_type": "code",
   "execution_count": null,
   "metadata": {},
   "outputs": [],
   "source": [
    "classification_metrics(X=X_train, y=y_train, estimator=model)"
   ]
  },
  {
   "cell_type": "code",
   "execution_count": null,
   "metadata": {},
   "outputs": [],
   "source": [
    "param_dist = {\"max_depth\": range(10, 20),\n",
    "              \"max_features\": [\"auto\", \"sqrt\", \"log2\"],\n",
    "              \"min_samples_leaf\": [x for x in range(1000,10000, 100)], \n",
    "              \"criterion\": [\"gini\", \"entropy\"],\n",
    "              \"splitter\": [\"best\", \"random\"],\n",
    "              \"class_weight\": [\"balanced\"]\n",
    "             }"
   ]
  },
  {
   "cell_type": "code",
   "execution_count": null,
   "metadata": {},
   "outputs": [],
   "source": [
    "modelo=DecisionTreeClassifier()\n",
    "search = RandomizedSearchCV(param_distributions=param_dist, cv=4, n_jobs=-1, scoring=\"roc_auc\", \n",
    "                            estimator=modelo, verbose=5,n_iter=50)"
   ]
  },
  {
   "cell_type": "code",
   "execution_count": null,
   "metadata": {},
   "outputs": [],
   "source": [
    "search.fit(X_train, y_train)"
   ]
  },
  {
   "cell_type": "code",
   "execution_count": null,
   "metadata": {},
   "outputs": [],
   "source": [
    "search.best_estimator_.score(X_test, y_test)"
   ]
  },
  {
   "cell_type": "code",
   "execution_count": null,
   "metadata": {},
   "outputs": [],
   "source": [
    "search.best_estimator_.score(X_train, y_train)"
   ]
  },
  {
   "cell_type": "code",
   "execution_count": null,
   "metadata": {},
   "outputs": [],
   "source": [
    "#pd.to_pickle(model,\"arbolclasificar.pkl\") roc.772"
   ]
  },
  {
   "cell_type": "markdown",
   "metadata": {},
   "source": [
    "# XGBoost"
   ]
  },
  {
   "cell_type": "markdown",
   "metadata": {},
   "source": [
    "#### usa la tabla del tree classifier"
   ]
  },
  {
   "cell_type": "code",
   "execution_count": null,
   "metadata": {},
   "outputs": [],
   "source": [
    "from xgboost.sklearn import XGBClassifier"
   ]
  },
  {
   "cell_type": "code",
   "execution_count": null,
   "metadata": {},
   "outputs": [],
   "source": [
    "XGBClassifier?"
   ]
  },
  {
   "cell_type": "code",
   "execution_count": null,
   "metadata": {},
   "outputs": [],
   "source": [
    "%%time\n",
    "model=XGBClassifier()\n",
    "model.fit(X_train,y_train.values.ravel())"
   ]
  },
  {
   "cell_type": "code",
   "execution_count": null,
   "metadata": {},
   "outputs": [],
   "source": [
    "model.score(X_train, y_train.values.ravel())"
   ]
  },
  {
   "cell_type": "code",
   "execution_count": null,
   "metadata": {},
   "outputs": [],
   "source": [
    "model.score(X_test, y_test.values.ravel())"
   ]
  },
  {
   "cell_type": "code",
   "execution_count": null,
   "metadata": {},
   "outputs": [],
   "source": [
    "y_true=(y_test=='Muy severo')*1\n",
    "y_pred=(model.predict(X_test)=='Muy severo')*1"
   ]
  },
  {
   "cell_type": "code",
   "execution_count": null,
   "metadata": {},
   "outputs": [],
   "source": [
    "#pd.to_pickle(model,\"xgbclassifier_proyecto.pkl\") ###0.8446545466135966 "
   ]
  },
  {
   "cell_type": "code",
   "execution_count": null,
   "metadata": {},
   "outputs": [],
   "source": [
    "roc_auc_score(y_pred,y_true)"
   ]
  },
  {
   "cell_type": "code",
   "execution_count": null,
   "metadata": {},
   "outputs": [],
   "source": [
    "def classification_metrics(X, y, estimator):\n",
    "    ls_scores_roc = cross_val_score(estimator=estimator, X=X, y=y, scoring=\"roc_auc\", n_jobs=-1, cv=4)\n",
    "    print(f\"ROC media: {np.mean(ls_scores_roc):,.2f}, desviación estándar: {np.std(ls_scores_roc)}\")"
   ]
  },
  {
   "cell_type": "code",
   "execution_count": null,
   "metadata": {},
   "outputs": [],
   "source": [
    "#classification_metrics(X=X_train, y=y_train.values.ravel(), estimator=model)"
   ]
  },
  {
   "cell_type": "code",
   "execution_count": null,
   "metadata": {},
   "outputs": [],
   "source": []
  }
 ],
 "metadata": {
  "kernelspec": {
   "display_name": "Python 3",
   "language": "python",
   "name": "python3"
  },
  "language_info": {
   "codemirror_mode": {
    "name": "ipython",
    "version": 3
   },
   "file_extension": ".py",
   "mimetype": "text/x-python",
   "name": "python",
   "nbconvert_exporter": "python",
   "pygments_lexer": "ipython3",
   "version": "3.7.9"
  }
 },
 "nbformat": 4,
 "nbformat_minor": 4
}
